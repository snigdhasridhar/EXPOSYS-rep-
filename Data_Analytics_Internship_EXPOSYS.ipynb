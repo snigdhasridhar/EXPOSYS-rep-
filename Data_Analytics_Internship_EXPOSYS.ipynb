{
  "nbformat": 4,
  "nbformat_minor": 0,
  "metadata": {
    "colab": {
      "provenance": [],
      "authorship_tag": "ABX9TyPoZW73pF2iY7ZTTDxhJ11M",
      "include_colab_link": true
    },
    "kernelspec": {
      "name": "python3",
      "display_name": "Python 3"
    },
    "language_info": {
      "name": "python"
    }
  },
  "cells": [
    {
      "cell_type": "markdown",
      "metadata": {
        "id": "view-in-github",
        "colab_type": "text"
      },
      "source": [
        "<a href=\"https://colab.research.google.com/github/21cb55snigdha/EXPOSYS-Data-Labs/blob/main/Data_Analytics_Internship_EXPOSYS.ipynb\" target=\"_parent\"><img src=\"https://colab.research.google.com/assets/colab-badge.svg\" alt=\"Open In Colab\"/></a>"
      ]
    },
    {
      "cell_type": "code",
      "execution_count": null,
      "metadata": {
        "id": "tuFTaPXVrePq"
      },
      "outputs": [],
      "source": [
        "import pandas as pd\n",
        "import numpy as np\n",
        "import matplotlib.pyplot as plt\n",
        "import seaborn as sns\n",
        "\n",
        "import warnings\n",
        "warnings.filterwarnings(\"ignore\")"
      ]
    },
    {
      "cell_type": "code",
      "source": [
        "# Loading the csv file and checking top 5 observations of our dataset.\n",
        "\n",
        "data=pd.read_csv('50_Startups (2).csv')\n",
        "data.head()"
      ],
      "metadata": {
        "colab": {
          "base_uri": "https://localhost:8080/",
          "height": 206
        },
        "id": "a6AjIg_Hr4sO",
        "outputId": "9a37240f-b600-441d-ae58-9d17f15be25c"
      },
      "execution_count": null,
      "outputs": [
        {
          "output_type": "execute_result",
          "data": {
            "text/plain": [
              "   R&D Spend  Administration  Marketing Spend     Profit\n",
              "0  165349.20       136897.80        471784.10  192261.83\n",
              "1  162597.70       151377.59        443898.53  191792.06\n",
              "2  153441.51       101145.55        407934.54  191050.39\n",
              "3  144372.41       118671.85        383199.62  182901.99\n",
              "4  142107.34        91391.77        366168.42  166187.94"
            ],
            "text/html": [
              "\n",
              "  <div id=\"df-d78e705c-d47d-43cc-87f0-020649dedd9b\">\n",
              "    <div class=\"colab-df-container\">\n",
              "      <div>\n",
              "<style scoped>\n",
              "    .dataframe tbody tr th:only-of-type {\n",
              "        vertical-align: middle;\n",
              "    }\n",
              "\n",
              "    .dataframe tbody tr th {\n",
              "        vertical-align: top;\n",
              "    }\n",
              "\n",
              "    .dataframe thead th {\n",
              "        text-align: right;\n",
              "    }\n",
              "</style>\n",
              "<table border=\"1\" class=\"dataframe\">\n",
              "  <thead>\n",
              "    <tr style=\"text-align: right;\">\n",
              "      <th></th>\n",
              "      <th>R&amp;D Spend</th>\n",
              "      <th>Administration</th>\n",
              "      <th>Marketing Spend</th>\n",
              "      <th>Profit</th>\n",
              "    </tr>\n",
              "  </thead>\n",
              "  <tbody>\n",
              "    <tr>\n",
              "      <th>0</th>\n",
              "      <td>165349.20</td>\n",
              "      <td>136897.80</td>\n",
              "      <td>471784.10</td>\n",
              "      <td>192261.83</td>\n",
              "    </tr>\n",
              "    <tr>\n",
              "      <th>1</th>\n",
              "      <td>162597.70</td>\n",
              "      <td>151377.59</td>\n",
              "      <td>443898.53</td>\n",
              "      <td>191792.06</td>\n",
              "    </tr>\n",
              "    <tr>\n",
              "      <th>2</th>\n",
              "      <td>153441.51</td>\n",
              "      <td>101145.55</td>\n",
              "      <td>407934.54</td>\n",
              "      <td>191050.39</td>\n",
              "    </tr>\n",
              "    <tr>\n",
              "      <th>3</th>\n",
              "      <td>144372.41</td>\n",
              "      <td>118671.85</td>\n",
              "      <td>383199.62</td>\n",
              "      <td>182901.99</td>\n",
              "    </tr>\n",
              "    <tr>\n",
              "      <th>4</th>\n",
              "      <td>142107.34</td>\n",
              "      <td>91391.77</td>\n",
              "      <td>366168.42</td>\n",
              "      <td>166187.94</td>\n",
              "    </tr>\n",
              "  </tbody>\n",
              "</table>\n",
              "</div>\n",
              "      <button class=\"colab-df-convert\" onclick=\"convertToInteractive('df-d78e705c-d47d-43cc-87f0-020649dedd9b')\"\n",
              "              title=\"Convert this dataframe to an interactive table.\"\n",
              "              style=\"display:none;\">\n",
              "        \n",
              "  <svg xmlns=\"http://www.w3.org/2000/svg\" height=\"24px\"viewBox=\"0 0 24 24\"\n",
              "       width=\"24px\">\n",
              "    <path d=\"M0 0h24v24H0V0z\" fill=\"none\"/>\n",
              "    <path d=\"M18.56 5.44l.94 2.06.94-2.06 2.06-.94-2.06-.94-.94-2.06-.94 2.06-2.06.94zm-11 1L8.5 8.5l.94-2.06 2.06-.94-2.06-.94L8.5 2.5l-.94 2.06-2.06.94zm10 10l.94 2.06.94-2.06 2.06-.94-2.06-.94-.94-2.06-.94 2.06-2.06.94z\"/><path d=\"M17.41 7.96l-1.37-1.37c-.4-.4-.92-.59-1.43-.59-.52 0-1.04.2-1.43.59L10.3 9.45l-7.72 7.72c-.78.78-.78 2.05 0 2.83L4 21.41c.39.39.9.59 1.41.59.51 0 1.02-.2 1.41-.59l7.78-7.78 2.81-2.81c.8-.78.8-2.07 0-2.86zM5.41 20L4 18.59l7.72-7.72 1.47 1.35L5.41 20z\"/>\n",
              "  </svg>\n",
              "      </button>\n",
              "      \n",
              "  <style>\n",
              "    .colab-df-container {\n",
              "      display:flex;\n",
              "      flex-wrap:wrap;\n",
              "      gap: 12px;\n",
              "    }\n",
              "\n",
              "    .colab-df-convert {\n",
              "      background-color: #E8F0FE;\n",
              "      border: none;\n",
              "      border-radius: 50%;\n",
              "      cursor: pointer;\n",
              "      display: none;\n",
              "      fill: #1967D2;\n",
              "      height: 32px;\n",
              "      padding: 0 0 0 0;\n",
              "      width: 32px;\n",
              "    }\n",
              "\n",
              "    .colab-df-convert:hover {\n",
              "      background-color: #E2EBFA;\n",
              "      box-shadow: 0px 1px 2px rgba(60, 64, 67, 0.3), 0px 1px 3px 1px rgba(60, 64, 67, 0.15);\n",
              "      fill: #174EA6;\n",
              "    }\n",
              "\n",
              "    [theme=dark] .colab-df-convert {\n",
              "      background-color: #3B4455;\n",
              "      fill: #D2E3FC;\n",
              "    }\n",
              "\n",
              "    [theme=dark] .colab-df-convert:hover {\n",
              "      background-color: #434B5C;\n",
              "      box-shadow: 0px 1px 3px 1px rgba(0, 0, 0, 0.15);\n",
              "      filter: drop-shadow(0px 1px 2px rgba(0, 0, 0, 0.3));\n",
              "      fill: #FFFFFF;\n",
              "    }\n",
              "  </style>\n",
              "\n",
              "      <script>\n",
              "        const buttonEl =\n",
              "          document.querySelector('#df-d78e705c-d47d-43cc-87f0-020649dedd9b button.colab-df-convert');\n",
              "        buttonEl.style.display =\n",
              "          google.colab.kernel.accessAllowed ? 'block' : 'none';\n",
              "\n",
              "        async function convertToInteractive(key) {\n",
              "          const element = document.querySelector('#df-d78e705c-d47d-43cc-87f0-020649dedd9b');\n",
              "          const dataTable =\n",
              "            await google.colab.kernel.invokeFunction('convertToInteractive',\n",
              "                                                     [key], {});\n",
              "          if (!dataTable) return;\n",
              "\n",
              "          const docLinkHtml = 'Like what you see? Visit the ' +\n",
              "            '<a target=\"_blank\" href=https://colab.research.google.com/notebooks/data_table.ipynb>data table notebook</a>'\n",
              "            + ' to learn more about interactive tables.';\n",
              "          element.innerHTML = '';\n",
              "          dataTable['output_type'] = 'display_data';\n",
              "          await google.colab.output.renderOutput(dataTable, element);\n",
              "          const docLink = document.createElement('div');\n",
              "          docLink.innerHTML = docLinkHtml;\n",
              "          element.appendChild(docLink);\n",
              "        }\n",
              "      </script>\n",
              "    </div>\n",
              "  </div>\n",
              "  "
            ]
          },
          "metadata": {},
          "execution_count": 6
        }
      ]
    },
    {
      "cell_type": "code",
      "source": [
        "# To get overall information about dataset.\n",
        "data.info()"
      ],
      "metadata": {
        "colab": {
          "base_uri": "https://localhost:8080/"
        },
        "id": "yF2reZJF4NGk",
        "outputId": "b62c4a2a-0fcd-41ef-bfd0-9daae964fd35"
      },
      "execution_count": null,
      "outputs": [
        {
          "output_type": "stream",
          "name": "stdout",
          "text": [
            "<class 'pandas.core.frame.DataFrame'>\n",
            "RangeIndex: 50 entries, 0 to 49\n",
            "Data columns (total 4 columns):\n",
            " #   Column           Non-Null Count  Dtype  \n",
            "---  ------           --------------  -----  \n",
            " 0   R&D Spend        50 non-null     float64\n",
            " 1   Administration   50 non-null     float64\n",
            " 2   Marketing Spend  50 non-null     float64\n",
            " 3   Profit           50 non-null     float64\n",
            "dtypes: float64(4)\n",
            "memory usage: 1.7 KB\n"
          ]
        }
      ]
    },
    {
      "cell_type": "code",
      "source": [
        "# No null values are there in this dataset.\n",
        "data.isnull().sum()"
      ],
      "metadata": {
        "colab": {
          "base_uri": "https://localhost:8080/"
        },
        "id": "nFXU18mx7pTZ",
        "outputId": "4c9e6ebc-04b5-44ce-a577-6953e1548144"
      },
      "execution_count": null,
      "outputs": [
        {
          "output_type": "execute_result",
          "data": {
            "text/plain": [
              "R&D Spend          0\n",
              "Administration     0\n",
              "Marketing Spend    0\n",
              "Profit             0\n",
              "dtype: int64"
            ]
          },
          "metadata": {},
          "execution_count": 8
        }
      ]
    },
    {
      "cell_type": "code",
      "source": [
        "data.shape"
      ],
      "metadata": {
        "colab": {
          "base_uri": "https://localhost:8080/"
        },
        "id": "3ZfSmNR47twO",
        "outputId": "2dea4804-bec2-4b60-ee50-391b0617d9b9"
      },
      "execution_count": null,
      "outputs": [
        {
          "output_type": "execute_result",
          "data": {
            "text/plain": [
              "(50, 4)"
            ]
          },
          "metadata": {},
          "execution_count": 9
        }
      ]
    },
    {
      "cell_type": "code",
      "source": [
        "# removing duplicates from this dataset\n",
        "data.drop_duplicates(keep=\"first\",inplace= True)"
      ],
      "metadata": {
        "id": "K0Cot-qD7wuD"
      },
      "execution_count": null,
      "outputs": []
    },
    {
      "cell_type": "code",
      "source": [
        "data.shape"
      ],
      "metadata": {
        "colab": {
          "base_uri": "https://localhost:8080/"
        },
        "id": "mRbfRtNU7zDy",
        "outputId": "b3e657a5-bf4f-4430-e23f-e4f8e1304aaa"
      },
      "execution_count": null,
      "outputs": [
        {
          "output_type": "execute_result",
          "data": {
            "text/plain": [
              "(50, 4)"
            ]
          },
          "metadata": {},
          "execution_count": 11
        }
      ]
    },
    {
      "cell_type": "code",
      "source": [
        "# statistical description of the data.\n",
        "data.describe()"
      ],
      "metadata": {
        "colab": {
          "base_uri": "https://localhost:8080/",
          "height": 300
        },
        "id": "9wb2GSWi71z3",
        "outputId": "cbc97e4a-5544-4a58-b41c-d1fed77fd6a6"
      },
      "execution_count": null,
      "outputs": [
        {
          "output_type": "execute_result",
          "data": {
            "text/plain": [
              "           R&D Spend  Administration  Marketing Spend         Profit\n",
              "count      50.000000       50.000000        50.000000      50.000000\n",
              "mean    73721.615600   121344.639600    211025.097800  112012.639200\n",
              "std     45902.256482    28017.802755    122290.310726   40306.180338\n",
              "min         0.000000    51283.140000         0.000000   14681.400000\n",
              "25%     39936.370000   103730.875000    129300.132500   90138.902500\n",
              "50%     73051.080000   122699.795000    212716.240000  107978.190000\n",
              "75%    101602.800000   144842.180000    299469.085000  139765.977500\n",
              "max    165349.200000   182645.560000    471784.100000  192261.830000"
            ],
            "text/html": [
              "\n",
              "  <div id=\"df-64de8d60-66b0-42e9-be25-00ca6f21688a\">\n",
              "    <div class=\"colab-df-container\">\n",
              "      <div>\n",
              "<style scoped>\n",
              "    .dataframe tbody tr th:only-of-type {\n",
              "        vertical-align: middle;\n",
              "    }\n",
              "\n",
              "    .dataframe tbody tr th {\n",
              "        vertical-align: top;\n",
              "    }\n",
              "\n",
              "    .dataframe thead th {\n",
              "        text-align: right;\n",
              "    }\n",
              "</style>\n",
              "<table border=\"1\" class=\"dataframe\">\n",
              "  <thead>\n",
              "    <tr style=\"text-align: right;\">\n",
              "      <th></th>\n",
              "      <th>R&amp;D Spend</th>\n",
              "      <th>Administration</th>\n",
              "      <th>Marketing Spend</th>\n",
              "      <th>Profit</th>\n",
              "    </tr>\n",
              "  </thead>\n",
              "  <tbody>\n",
              "    <tr>\n",
              "      <th>count</th>\n",
              "      <td>50.000000</td>\n",
              "      <td>50.000000</td>\n",
              "      <td>50.000000</td>\n",
              "      <td>50.000000</td>\n",
              "    </tr>\n",
              "    <tr>\n",
              "      <th>mean</th>\n",
              "      <td>73721.615600</td>\n",
              "      <td>121344.639600</td>\n",
              "      <td>211025.097800</td>\n",
              "      <td>112012.639200</td>\n",
              "    </tr>\n",
              "    <tr>\n",
              "      <th>std</th>\n",
              "      <td>45902.256482</td>\n",
              "      <td>28017.802755</td>\n",
              "      <td>122290.310726</td>\n",
              "      <td>40306.180338</td>\n",
              "    </tr>\n",
              "    <tr>\n",
              "      <th>min</th>\n",
              "      <td>0.000000</td>\n",
              "      <td>51283.140000</td>\n",
              "      <td>0.000000</td>\n",
              "      <td>14681.400000</td>\n",
              "    </tr>\n",
              "    <tr>\n",
              "      <th>25%</th>\n",
              "      <td>39936.370000</td>\n",
              "      <td>103730.875000</td>\n",
              "      <td>129300.132500</td>\n",
              "      <td>90138.902500</td>\n",
              "    </tr>\n",
              "    <tr>\n",
              "      <th>50%</th>\n",
              "      <td>73051.080000</td>\n",
              "      <td>122699.795000</td>\n",
              "      <td>212716.240000</td>\n",
              "      <td>107978.190000</td>\n",
              "    </tr>\n",
              "    <tr>\n",
              "      <th>75%</th>\n",
              "      <td>101602.800000</td>\n",
              "      <td>144842.180000</td>\n",
              "      <td>299469.085000</td>\n",
              "      <td>139765.977500</td>\n",
              "    </tr>\n",
              "    <tr>\n",
              "      <th>max</th>\n",
              "      <td>165349.200000</td>\n",
              "      <td>182645.560000</td>\n",
              "      <td>471784.100000</td>\n",
              "      <td>192261.830000</td>\n",
              "    </tr>\n",
              "  </tbody>\n",
              "</table>\n",
              "</div>\n",
              "      <button class=\"colab-df-convert\" onclick=\"convertToInteractive('df-64de8d60-66b0-42e9-be25-00ca6f21688a')\"\n",
              "              title=\"Convert this dataframe to an interactive table.\"\n",
              "              style=\"display:none;\">\n",
              "        \n",
              "  <svg xmlns=\"http://www.w3.org/2000/svg\" height=\"24px\"viewBox=\"0 0 24 24\"\n",
              "       width=\"24px\">\n",
              "    <path d=\"M0 0h24v24H0V0z\" fill=\"none\"/>\n",
              "    <path d=\"M18.56 5.44l.94 2.06.94-2.06 2.06-.94-2.06-.94-.94-2.06-.94 2.06-2.06.94zm-11 1L8.5 8.5l.94-2.06 2.06-.94-2.06-.94L8.5 2.5l-.94 2.06-2.06.94zm10 10l.94 2.06.94-2.06 2.06-.94-2.06-.94-.94-2.06-.94 2.06-2.06.94z\"/><path d=\"M17.41 7.96l-1.37-1.37c-.4-.4-.92-.59-1.43-.59-.52 0-1.04.2-1.43.59L10.3 9.45l-7.72 7.72c-.78.78-.78 2.05 0 2.83L4 21.41c.39.39.9.59 1.41.59.51 0 1.02-.2 1.41-.59l7.78-7.78 2.81-2.81c.8-.78.8-2.07 0-2.86zM5.41 20L4 18.59l7.72-7.72 1.47 1.35L5.41 20z\"/>\n",
              "  </svg>\n",
              "      </button>\n",
              "      \n",
              "  <style>\n",
              "    .colab-df-container {\n",
              "      display:flex;\n",
              "      flex-wrap:wrap;\n",
              "      gap: 12px;\n",
              "    }\n",
              "\n",
              "    .colab-df-convert {\n",
              "      background-color: #E8F0FE;\n",
              "      border: none;\n",
              "      border-radius: 50%;\n",
              "      cursor: pointer;\n",
              "      display: none;\n",
              "      fill: #1967D2;\n",
              "      height: 32px;\n",
              "      padding: 0 0 0 0;\n",
              "      width: 32px;\n",
              "    }\n",
              "\n",
              "    .colab-df-convert:hover {\n",
              "      background-color: #E2EBFA;\n",
              "      box-shadow: 0px 1px 2px rgba(60, 64, 67, 0.3), 0px 1px 3px 1px rgba(60, 64, 67, 0.15);\n",
              "      fill: #174EA6;\n",
              "    }\n",
              "\n",
              "    [theme=dark] .colab-df-convert {\n",
              "      background-color: #3B4455;\n",
              "      fill: #D2E3FC;\n",
              "    }\n",
              "\n",
              "    [theme=dark] .colab-df-convert:hover {\n",
              "      background-color: #434B5C;\n",
              "      box-shadow: 0px 1px 3px 1px rgba(0, 0, 0, 0.15);\n",
              "      filter: drop-shadow(0px 1px 2px rgba(0, 0, 0, 0.3));\n",
              "      fill: #FFFFFF;\n",
              "    }\n",
              "  </style>\n",
              "\n",
              "      <script>\n",
              "        const buttonEl =\n",
              "          document.querySelector('#df-64de8d60-66b0-42e9-be25-00ca6f21688a button.colab-df-convert');\n",
              "        buttonEl.style.display =\n",
              "          google.colab.kernel.accessAllowed ? 'block' : 'none';\n",
              "\n",
              "        async function convertToInteractive(key) {\n",
              "          const element = document.querySelector('#df-64de8d60-66b0-42e9-be25-00ca6f21688a');\n",
              "          const dataTable =\n",
              "            await google.colab.kernel.invokeFunction('convertToInteractive',\n",
              "                                                     [key], {});\n",
              "          if (!dataTable) return;\n",
              "\n",
              "          const docLinkHtml = 'Like what you see? Visit the ' +\n",
              "            '<a target=\"_blank\" href=https://colab.research.google.com/notebooks/data_table.ipynb>data table notebook</a>'\n",
              "            + ' to learn more about interactive tables.';\n",
              "          element.innerHTML = '';\n",
              "          dataTable['output_type'] = 'display_data';\n",
              "          await google.colab.output.renderOutput(dataTable, element);\n",
              "          const docLink = document.createElement('div');\n",
              "          docLink.innerHTML = docLinkHtml;\n",
              "          element.appendChild(docLink);\n",
              "        }\n",
              "      </script>\n",
              "    </div>\n",
              "  </div>\n",
              "  "
            ]
          },
          "metadata": {},
          "execution_count": 12
        }
      ]
    },
    {
      "cell_type": "markdown",
      "source": [
        "1. Spliting the data to train and testing data"
      ],
      "metadata": {
        "id": "E3gQTvwwYq8x"
      }
    },
    {
      "cell_type": "code",
      "source": [
        "#Splitting the data into training and testing data\n",
        "\n",
        "features=data.iloc[:,:-1]\n",
        "target=data.iloc[:,-1]\n",
        "features.head()"
      ],
      "metadata": {
        "colab": {
          "base_uri": "https://localhost:8080/",
          "height": 206
        },
        "id": "IYyuyefwBSaB",
        "outputId": "15e01410-e364-45bd-e87a-e9c616f1e91b"
      },
      "execution_count": null,
      "outputs": [
        {
          "output_type": "execute_result",
          "data": {
            "text/plain": [
              "   R&D Spend  Administration  Marketing Spend\n",
              "0  165349.20       136897.80        471784.10\n",
              "1  162597.70       151377.59        443898.53\n",
              "2  153441.51       101145.55        407934.54\n",
              "3  144372.41       118671.85        383199.62\n",
              "4  142107.34        91391.77        366168.42"
            ],
            "text/html": [
              "\n",
              "  <div id=\"df-ff82e1a8-7ed5-4f59-9277-9ae795858ae0\">\n",
              "    <div class=\"colab-df-container\">\n",
              "      <div>\n",
              "<style scoped>\n",
              "    .dataframe tbody tr th:only-of-type {\n",
              "        vertical-align: middle;\n",
              "    }\n",
              "\n",
              "    .dataframe tbody tr th {\n",
              "        vertical-align: top;\n",
              "    }\n",
              "\n",
              "    .dataframe thead th {\n",
              "        text-align: right;\n",
              "    }\n",
              "</style>\n",
              "<table border=\"1\" class=\"dataframe\">\n",
              "  <thead>\n",
              "    <tr style=\"text-align: right;\">\n",
              "      <th></th>\n",
              "      <th>R&amp;D Spend</th>\n",
              "      <th>Administration</th>\n",
              "      <th>Marketing Spend</th>\n",
              "    </tr>\n",
              "  </thead>\n",
              "  <tbody>\n",
              "    <tr>\n",
              "      <th>0</th>\n",
              "      <td>165349.20</td>\n",
              "      <td>136897.80</td>\n",
              "      <td>471784.10</td>\n",
              "    </tr>\n",
              "    <tr>\n",
              "      <th>1</th>\n",
              "      <td>162597.70</td>\n",
              "      <td>151377.59</td>\n",
              "      <td>443898.53</td>\n",
              "    </tr>\n",
              "    <tr>\n",
              "      <th>2</th>\n",
              "      <td>153441.51</td>\n",
              "      <td>101145.55</td>\n",
              "      <td>407934.54</td>\n",
              "    </tr>\n",
              "    <tr>\n",
              "      <th>3</th>\n",
              "      <td>144372.41</td>\n",
              "      <td>118671.85</td>\n",
              "      <td>383199.62</td>\n",
              "    </tr>\n",
              "    <tr>\n",
              "      <th>4</th>\n",
              "      <td>142107.34</td>\n",
              "      <td>91391.77</td>\n",
              "      <td>366168.42</td>\n",
              "    </tr>\n",
              "  </tbody>\n",
              "</table>\n",
              "</div>\n",
              "      <button class=\"colab-df-convert\" onclick=\"convertToInteractive('df-ff82e1a8-7ed5-4f59-9277-9ae795858ae0')\"\n",
              "              title=\"Convert this dataframe to an interactive table.\"\n",
              "              style=\"display:none;\">\n",
              "        \n",
              "  <svg xmlns=\"http://www.w3.org/2000/svg\" height=\"24px\"viewBox=\"0 0 24 24\"\n",
              "       width=\"24px\">\n",
              "    <path d=\"M0 0h24v24H0V0z\" fill=\"none\"/>\n",
              "    <path d=\"M18.56 5.44l.94 2.06.94-2.06 2.06-.94-2.06-.94-.94-2.06-.94 2.06-2.06.94zm-11 1L8.5 8.5l.94-2.06 2.06-.94-2.06-.94L8.5 2.5l-.94 2.06-2.06.94zm10 10l.94 2.06.94-2.06 2.06-.94-2.06-.94-.94-2.06-.94 2.06-2.06.94z\"/><path d=\"M17.41 7.96l-1.37-1.37c-.4-.4-.92-.59-1.43-.59-.52 0-1.04.2-1.43.59L10.3 9.45l-7.72 7.72c-.78.78-.78 2.05 0 2.83L4 21.41c.39.39.9.59 1.41.59.51 0 1.02-.2 1.41-.59l7.78-7.78 2.81-2.81c.8-.78.8-2.07 0-2.86zM5.41 20L4 18.59l7.72-7.72 1.47 1.35L5.41 20z\"/>\n",
              "  </svg>\n",
              "      </button>\n",
              "      \n",
              "  <style>\n",
              "    .colab-df-container {\n",
              "      display:flex;\n",
              "      flex-wrap:wrap;\n",
              "      gap: 12px;\n",
              "    }\n",
              "\n",
              "    .colab-df-convert {\n",
              "      background-color: #E8F0FE;\n",
              "      border: none;\n",
              "      border-radius: 50%;\n",
              "      cursor: pointer;\n",
              "      display: none;\n",
              "      fill: #1967D2;\n",
              "      height: 32px;\n",
              "      padding: 0 0 0 0;\n",
              "      width: 32px;\n",
              "    }\n",
              "\n",
              "    .colab-df-convert:hover {\n",
              "      background-color: #E2EBFA;\n",
              "      box-shadow: 0px 1px 2px rgba(60, 64, 67, 0.3), 0px 1px 3px 1px rgba(60, 64, 67, 0.15);\n",
              "      fill: #174EA6;\n",
              "    }\n",
              "\n",
              "    [theme=dark] .colab-df-convert {\n",
              "      background-color: #3B4455;\n",
              "      fill: #D2E3FC;\n",
              "    }\n",
              "\n",
              "    [theme=dark] .colab-df-convert:hover {\n",
              "      background-color: #434B5C;\n",
              "      box-shadow: 0px 1px 3px 1px rgba(0, 0, 0, 0.15);\n",
              "      filter: drop-shadow(0px 1px 2px rgba(0, 0, 0, 0.3));\n",
              "      fill: #FFFFFF;\n",
              "    }\n",
              "  </style>\n",
              "\n",
              "      <script>\n",
              "        const buttonEl =\n",
              "          document.querySelector('#df-ff82e1a8-7ed5-4f59-9277-9ae795858ae0 button.colab-df-convert');\n",
              "        buttonEl.style.display =\n",
              "          google.colab.kernel.accessAllowed ? 'block' : 'none';\n",
              "\n",
              "        async function convertToInteractive(key) {\n",
              "          const element = document.querySelector('#df-ff82e1a8-7ed5-4f59-9277-9ae795858ae0');\n",
              "          const dataTable =\n",
              "            await google.colab.kernel.invokeFunction('convertToInteractive',\n",
              "                                                     [key], {});\n",
              "          if (!dataTable) return;\n",
              "\n",
              "          const docLinkHtml = 'Like what you see? Visit the ' +\n",
              "            '<a target=\"_blank\" href=https://colab.research.google.com/notebooks/data_table.ipynb>data table notebook</a>'\n",
              "            + ' to learn more about interactive tables.';\n",
              "          element.innerHTML = '';\n",
              "          dataTable['output_type'] = 'display_data';\n",
              "          await google.colab.output.renderOutput(dataTable, element);\n",
              "          const docLink = document.createElement('div');\n",
              "          docLink.innerHTML = docLinkHtml;\n",
              "          element.appendChild(docLink);\n",
              "        }\n",
              "      </script>\n",
              "    </div>\n",
              "  </div>\n",
              "  "
            ]
          },
          "metadata": {},
          "execution_count": 13
        }
      ]
    },
    {
      "cell_type": "code",
      "source": [
        "target.head()\n"
      ],
      "metadata": {
        "colab": {
          "base_uri": "https://localhost:8080/"
        },
        "id": "Hub-cv6BBVxx",
        "outputId": "ffce435c-a398-4236-907b-bc298ad38535"
      },
      "execution_count": null,
      "outputs": [
        {
          "output_type": "execute_result",
          "data": {
            "text/plain": [
              "0    192261.83\n",
              "1    191792.06\n",
              "2    191050.39\n",
              "3    182901.99\n",
              "4    166187.94\n",
              "Name: Profit, dtype: float64"
            ]
          },
          "metadata": {},
          "execution_count": 14
        }
      ]
    },
    {
      "cell_type": "code",
      "source": [
        "from sklearn.model_selection import train_test_split\n",
        "xtrain,xtest,ytrain,ytest=train_test_split(features,target,test_size=0.25,random_state=0)"
      ],
      "metadata": {
        "id": "YFlzK6dbBgVy"
      },
      "execution_count": null,
      "outputs": []
    },
    {
      "cell_type": "code",
      "source": [
        "                                   #1.Linear regression\n",
        "from sklearn.linear_model import LinearRegression\n",
        "lr=LinearRegression()\n",
        "lr.fit(xtrain,ytrain)\n",
        "ypred=lr.predict(xtest)"
      ],
      "metadata": {
        "id": "jRJfFPuJBihG"
      },
      "execution_count": null,
      "outputs": []
    },
    {
      "cell_type": "code",
      "source": [
        "lr.coef_"
      ],
      "metadata": {
        "colab": {
          "base_uri": "https://localhost:8080/"
        },
        "id": "kzftw44TBmJj",
        "outputId": "547dc8c4-2093-4d37-8f9b-96639096d5d9"
      },
      "execution_count": null,
      "outputs": [
        {
          "output_type": "execute_result",
          "data": {
            "text/plain": [
              "array([0.78252121, 0.04497543, 0.03280294])"
            ]
          },
          "metadata": {},
          "execution_count": 32
        }
      ]
    },
    {
      "cell_type": "code",
      "source": [
        "pd.DataFrame(lr.coef_,index=features.columns,columns=[\"Coefficients\"])"
      ],
      "metadata": {
        "colab": {
          "base_uri": "https://localhost:8080/",
          "height": 143
        },
        "id": "cEYhGzUKBnzh",
        "outputId": "13556159-38fd-4f70-dd71-5ce903348d17"
      },
      "execution_count": null,
      "outputs": [
        {
          "output_type": "execute_result",
          "data": {
            "text/plain": [
              "                 Coefficients\n",
              "R&D Spend            0.782521\n",
              "Administration       0.044975\n",
              "Marketing Spend      0.032803"
            ],
            "text/html": [
              "\n",
              "  <div id=\"df-576ae40b-7821-4a0d-95f0-1351910033c1\">\n",
              "    <div class=\"colab-df-container\">\n",
              "      <div>\n",
              "<style scoped>\n",
              "    .dataframe tbody tr th:only-of-type {\n",
              "        vertical-align: middle;\n",
              "    }\n",
              "\n",
              "    .dataframe tbody tr th {\n",
              "        vertical-align: top;\n",
              "    }\n",
              "\n",
              "    .dataframe thead th {\n",
              "        text-align: right;\n",
              "    }\n",
              "</style>\n",
              "<table border=\"1\" class=\"dataframe\">\n",
              "  <thead>\n",
              "    <tr style=\"text-align: right;\">\n",
              "      <th></th>\n",
              "      <th>Coefficients</th>\n",
              "    </tr>\n",
              "  </thead>\n",
              "  <tbody>\n",
              "    <tr>\n",
              "      <th>R&amp;D Spend</th>\n",
              "      <td>0.782521</td>\n",
              "    </tr>\n",
              "    <tr>\n",
              "      <th>Administration</th>\n",
              "      <td>0.044975</td>\n",
              "    </tr>\n",
              "    <tr>\n",
              "      <th>Marketing Spend</th>\n",
              "      <td>0.032803</td>\n",
              "    </tr>\n",
              "  </tbody>\n",
              "</table>\n",
              "</div>\n",
              "      <button class=\"colab-df-convert\" onclick=\"convertToInteractive('df-576ae40b-7821-4a0d-95f0-1351910033c1')\"\n",
              "              title=\"Convert this dataframe to an interactive table.\"\n",
              "              style=\"display:none;\">\n",
              "        \n",
              "  <svg xmlns=\"http://www.w3.org/2000/svg\" height=\"24px\"viewBox=\"0 0 24 24\"\n",
              "       width=\"24px\">\n",
              "    <path d=\"M0 0h24v24H0V0z\" fill=\"none\"/>\n",
              "    <path d=\"M18.56 5.44l.94 2.06.94-2.06 2.06-.94-2.06-.94-.94-2.06-.94 2.06-2.06.94zm-11 1L8.5 8.5l.94-2.06 2.06-.94-2.06-.94L8.5 2.5l-.94 2.06-2.06.94zm10 10l.94 2.06.94-2.06 2.06-.94-2.06-.94-.94-2.06-.94 2.06-2.06.94z\"/><path d=\"M17.41 7.96l-1.37-1.37c-.4-.4-.92-.59-1.43-.59-.52 0-1.04.2-1.43.59L10.3 9.45l-7.72 7.72c-.78.78-.78 2.05 0 2.83L4 21.41c.39.39.9.59 1.41.59.51 0 1.02-.2 1.41-.59l7.78-7.78 2.81-2.81c.8-.78.8-2.07 0-2.86zM5.41 20L4 18.59l7.72-7.72 1.47 1.35L5.41 20z\"/>\n",
              "  </svg>\n",
              "      </button>\n",
              "      \n",
              "  <style>\n",
              "    .colab-df-container {\n",
              "      display:flex;\n",
              "      flex-wrap:wrap;\n",
              "      gap: 12px;\n",
              "    }\n",
              "\n",
              "    .colab-df-convert {\n",
              "      background-color: #E8F0FE;\n",
              "      border: none;\n",
              "      border-radius: 50%;\n",
              "      cursor: pointer;\n",
              "      display: none;\n",
              "      fill: #1967D2;\n",
              "      height: 32px;\n",
              "      padding: 0 0 0 0;\n",
              "      width: 32px;\n",
              "    }\n",
              "\n",
              "    .colab-df-convert:hover {\n",
              "      background-color: #E2EBFA;\n",
              "      box-shadow: 0px 1px 2px rgba(60, 64, 67, 0.3), 0px 1px 3px 1px rgba(60, 64, 67, 0.15);\n",
              "      fill: #174EA6;\n",
              "    }\n",
              "\n",
              "    [theme=dark] .colab-df-convert {\n",
              "      background-color: #3B4455;\n",
              "      fill: #D2E3FC;\n",
              "    }\n",
              "\n",
              "    [theme=dark] .colab-df-convert:hover {\n",
              "      background-color: #434B5C;\n",
              "      box-shadow: 0px 1px 3px 1px rgba(0, 0, 0, 0.15);\n",
              "      filter: drop-shadow(0px 1px 2px rgba(0, 0, 0, 0.3));\n",
              "      fill: #FFFFFF;\n",
              "    }\n",
              "  </style>\n",
              "\n",
              "      <script>\n",
              "        const buttonEl =\n",
              "          document.querySelector('#df-576ae40b-7821-4a0d-95f0-1351910033c1 button.colab-df-convert');\n",
              "        buttonEl.style.display =\n",
              "          google.colab.kernel.accessAllowed ? 'block' : 'none';\n",
              "\n",
              "        async function convertToInteractive(key) {\n",
              "          const element = document.querySelector('#df-576ae40b-7821-4a0d-95f0-1351910033c1');\n",
              "          const dataTable =\n",
              "            await google.colab.kernel.invokeFunction('convertToInteractive',\n",
              "                                                     [key], {});\n",
              "          if (!dataTable) return;\n",
              "\n",
              "          const docLinkHtml = 'Like what you see? Visit the ' +\n",
              "            '<a target=\"_blank\" href=https://colab.research.google.com/notebooks/data_table.ipynb>data table notebook</a>'\n",
              "            + ' to learn more about interactive tables.';\n",
              "          element.innerHTML = '';\n",
              "          dataTable['output_type'] = 'display_data';\n",
              "          await google.colab.output.renderOutput(dataTable, element);\n",
              "          const docLink = document.createElement('div');\n",
              "          docLink.innerHTML = docLinkHtml;\n",
              "          element.appendChild(docLink);\n",
              "        }\n",
              "      </script>\n",
              "    </div>\n",
              "  </div>\n",
              "  "
            ]
          },
          "metadata": {},
          "execution_count": 36
        }
      ]
    },
    {
      "cell_type": "code",
      "source": [
        "from sklearn.metrics import mean_squared_error,mean_absolute_error,r2_score\n",
        "print(mean_squared_error(ytest,ypred))\n",
        "print(mean_absolute_error(ytest,ypred))\n",
        "print(r2_score(ytest,ypred))\n"
      ],
      "metadata": {
        "colab": {
          "base_uri": "https://localhost:8080/"
        },
        "id": "FXL9hrIUBqMV",
        "outputId": "558ec457-b54b-4865-91d7-07bad47f3117"
      },
      "execution_count": null,
      "outputs": [
        {
          "output_type": "stream",
          "name": "stdout",
          "text": [
            "72767199.14073597\n",
            "7025.635437378244\n",
            "0.9325475204846336\n"
          ]
        }
      ]
    },
    {
      "cell_type": "code",
      "source": [
        "tr=lr.score(xtrain,ytrain)\n",
        "te=lr.score(xtest,ytest)\n",
        "print(\"Traning accuracy\",tr)\n",
        "print(\"Testing accuracy\",te)"
      ],
      "metadata": {
        "colab": {
          "base_uri": "https://localhost:8080/"
        },
        "id": "FFuUhov0Bsoo",
        "outputId": "f9faa638-c5d5-4e81-920e-a6d713dc21dd"
      },
      "execution_count": null,
      "outputs": [
        {
          "output_type": "stream",
          "name": "stdout",
          "text": [
            "Traning accuracy 0.9511460611707223\n",
            "Testing accuracy 0.9325475204846336\n"
          ]
        }
      ]
    },
    {
      "cell_type": "code",
      "source": [
        "sns.distplot(ytest-ypred)"
      ],
      "metadata": {
        "colab": {
          "base_uri": "https://localhost:8080/",
          "height": 483
        },
        "id": "Javjgdc7By-0",
        "outputId": "60113410-5af2-4da8-cbda-75de1db80154"
      },
      "execution_count": null,
      "outputs": [
        {
          "output_type": "execute_result",
          "data": {
            "text/plain": [
              "<Axes: xlabel='Profit', ylabel='Density'>"
            ]
          },
          "metadata": {},
          "execution_count": 39
        },
        {
          "output_type": "display_data",
          "data": {
            "text/plain": [
              "<Figure size 640x480 with 1 Axes>"
            ],
            "image/png": "[encoded data removed]"
          },
          "metadata": {}
        }
      ]
    },
    {
      "cell_type": "code",
      "source": [
        "plt.scatter(ytest,ypred)"
      ],
      "metadata": {
        "colab": {
          "base_uri": "https://localhost:8080/",
          "height": 448
        },
        "id": "p5yD1Jo4B04n",
        "outputId": "53434dce-ea64-43bc-a24e-98ef3b197b51"
      },
      "execution_count": null,
      "outputs": [
        {
          "output_type": "execute_result",
          "data": {
            "text/plain": [
              "<matplotlib.collections.PathCollection at 0x7f414da60f40>"
            ]
          },
          "metadata": {},
          "execution_count": 40
        },
        {
          "output_type": "display_data",
          "data": {
            "text/plain": [
              "<Figure size 640x480 with 1 Axes>"
            ],
            "image/png": "[encoded data removed]"
          },
          "metadata": {}
        }
      ]
    },
    {
      "cell_type": "code",
      "source": [
        "import numpy as np\n",
        "import matplotlib.pyplot as plt\n",
        "import pandas as pd\n",
        "%matplotlib inline\n"
      ],
      "metadata": {
        "id": "Pc9FGQp0DT8g"
      },
      "execution_count": null,
      "outputs": []
    },
    {
      "cell_type": "code",
      "source": [
        "data = pd.read_csv('50_Startups (2).csv')\n",
        "data.head()"
      ],
      "metadata": {
        "colab": {
          "base_uri": "https://localhost:8080/",
          "height": 206
        },
        "id": "bixNQWPFDWxs",
        "outputId": "378239ec-c1dc-4cfd-fb6c-0a28dd8d020b"
      },
      "execution_count": null,
      "outputs": [
        {
          "output_type": "execute_result",
          "data": {
            "text/plain": [
              "   R&D Spend  Administration  Marketing Spend     Profit\n",
              "0  165349.20       136897.80        471784.10  192261.83\n",
              "1  162597.70       151377.59        443898.53  191792.06\n",
              "2  153441.51       101145.55        407934.54  191050.39\n",
              "3  144372.41       118671.85        383199.62  182901.99\n",
              "4  142107.34        91391.77        366168.42  166187.94"
            ],
            "text/html": [
              "\n",
              "  <div id=\"df-bf5927a9-17a6-40fd-bffb-69ac301d47d4\">\n",
              "    <div class=\"colab-df-container\">\n",
              "      <div>\n",
              "<style scoped>\n",
              "    .dataframe tbody tr th:only-of-type {\n",
              "        vertical-align: middle;\n",
              "    }\n",
              "\n",
              "    .dataframe tbody tr th {\n",
              "        vertical-align: top;\n",
              "    }\n",
              "\n",
              "    .dataframe thead th {\n",
              "        text-align: right;\n",
              "    }\n",
              "</style>\n",
              "<table border=\"1\" class=\"dataframe\">\n",
              "  <thead>\n",
              "    <tr style=\"text-align: right;\">\n",
              "      <th></th>\n",
              "      <th>R&amp;D Spend</th>\n",
              "      <th>Administration</th>\n",
              "      <th>Marketing Spend</th>\n",
              "      <th>Profit</th>\n",
              "    </tr>\n",
              "  </thead>\n",
              "  <tbody>\n",
              "    <tr>\n",
              "      <th>0</th>\n",
              "      <td>165349.20</td>\n",
              "      <td>136897.80</td>\n",
              "      <td>471784.10</td>\n",
              "      <td>192261.83</td>\n",
              "    </tr>\n",
              "    <tr>\n",
              "      <th>1</th>\n",
              "      <td>162597.70</td>\n",
              "      <td>151377.59</td>\n",
              "      <td>443898.53</td>\n",
              "      <td>191792.06</td>\n",
              "    </tr>\n",
              "    <tr>\n",
              "      <th>2</th>\n",
              "      <td>153441.51</td>\n",
              "      <td>101145.55</td>\n",
              "      <td>407934.54</td>\n",
              "      <td>191050.39</td>\n",
              "    </tr>\n",
              "    <tr>\n",
              "      <th>3</th>\n",
              "      <td>144372.41</td>\n",
              "      <td>118671.85</td>\n",
              "      <td>383199.62</td>\n",
              "      <td>182901.99</td>\n",
              "    </tr>\n",
              "    <tr>\n",
              "      <th>4</th>\n",
              "      <td>142107.34</td>\n",
              "      <td>91391.77</td>\n",
              "      <td>366168.42</td>\n",
              "      <td>166187.94</td>\n",
              "    </tr>\n",
              "  </tbody>\n",
              "</table>\n",
              "</div>\n",
              "      <button class=\"colab-df-convert\" onclick=\"convertToInteractive('df-bf5927a9-17a6-40fd-bffb-69ac301d47d4')\"\n",
              "              title=\"Convert this dataframe to an interactive table.\"\n",
              "              style=\"display:none;\">\n",
              "        \n",
              "  <svg xmlns=\"http://www.w3.org/2000/svg\" height=\"24px\"viewBox=\"0 0 24 24\"\n",
              "       width=\"24px\">\n",
              "    <path d=\"M0 0h24v24H0V0z\" fill=\"none\"/>\n",
              "    <path d=\"M18.56 5.44l.94 2.06.94-2.06 2.06-.94-2.06-.94-.94-2.06-.94 2.06-2.06.94zm-11 1L8.5 8.5l.94-2.06 2.06-.94-2.06-.94L8.5 2.5l-.94 2.06-2.06.94zm10 10l.94 2.06.94-2.06 2.06-.94-2.06-.94-.94-2.06-.94 2.06-2.06.94z\"/><path d=\"M17.41 7.96l-1.37-1.37c-.4-.4-.92-.59-1.43-.59-.52 0-1.04.2-1.43.59L10.3 9.45l-7.72 7.72c-.78.78-.78 2.05 0 2.83L4 21.41c.39.39.9.59 1.41.59.51 0 1.02-.2 1.41-.59l7.78-7.78 2.81-2.81c.8-.78.8-2.07 0-2.86zM5.41 20L4 18.59l7.72-7.72 1.47 1.35L5.41 20z\"/>\n",
              "  </svg>\n",
              "      </button>\n",
              "      \n",
              "  <style>\n",
              "    .colab-df-container {\n",
              "      display:flex;\n",
              "      flex-wrap:wrap;\n",
              "      gap: 12px;\n",
              "    }\n",
              "\n",
              "    .colab-df-convert {\n",
              "      background-color: #E8F0FE;\n",
              "      border: none;\n",
              "      border-radius: 50%;\n",
              "      cursor: pointer;\n",
              "      display: none;\n",
              "      fill: #1967D2;\n",
              "      height: 32px;\n",
              "      padding: 0 0 0 0;\n",
              "      width: 32px;\n",
              "    }\n",
              "\n",
              "    .colab-df-convert:hover {\n",
              "      background-color: #E2EBFA;\n",
              "      box-shadow: 0px 1px 2px rgba(60, 64, 67, 0.3), 0px 1px 3px 1px rgba(60, 64, 67, 0.15);\n",
              "      fill: #174EA6;\n",
              "    }\n",
              "\n",
              "    [theme=dark] .colab-df-convert {\n",
              "      background-color: #3B4455;\n",
              "      fill: #D2E3FC;\n",
              "    }\n",
              "\n",
              "    [theme=dark] .colab-df-convert:hover {\n",
              "      background-color: #434B5C;\n",
              "      box-shadow: 0px 1px 3px 1px rgba(0, 0, 0, 0.15);\n",
              "      filter: drop-shadow(0px 1px 2px rgba(0, 0, 0, 0.3));\n",
              "      fill: #FFFFFF;\n",
              "    }\n",
              "  </style>\n",
              "\n",
              "      <script>\n",
              "        const buttonEl =\n",
              "          document.querySelector('#df-bf5927a9-17a6-40fd-bffb-69ac301d47d4 button.colab-df-convert');\n",
              "        buttonEl.style.display =\n",
              "          google.colab.kernel.accessAllowed ? 'block' : 'none';\n",
              "\n",
              "        async function convertToInteractive(key) {\n",
              "          const element = document.querySelector('#df-bf5927a9-17a6-40fd-bffb-69ac301d47d4');\n",
              "          const dataTable =\n",
              "            await google.colab.kernel.invokeFunction('convertToInteractive',\n",
              "                                                     [key], {});\n",
              "          if (!dataTable) return;\n",
              "\n",
              "          const docLinkHtml = 'Like what you see? Visit the ' +\n",
              "            '<a target=\"_blank\" href=https://colab.research.google.com/notebooks/data_table.ipynb>data table notebook</a>'\n",
              "            + ' to learn more about interactive tables.';\n",
              "          element.innerHTML = '';\n",
              "          dataTable['output_type'] = 'display_data';\n",
              "          await google.colab.output.renderOutput(dataTable, element);\n",
              "          const docLink = document.createElement('div');\n",
              "          docLink.innerHTML = docLinkHtml;\n",
              "          element.appendChild(docLink);\n",
              "        }\n",
              "      </script>\n",
              "    </div>\n",
              "  </div>\n",
              "  "
            ]
          },
          "metadata": {},
          "execution_count": 28
        }
      ]
    },
    {
      "cell_type": "markdown",
      "source": [
        "2.DIFFERENT REGRESSION ALGORITHMS:  \n",
        "\n",
        "1. LinearRegression,\n",
        "2. LassoRegression,\n",
        "3. RidgeRegression,\n",
        "4. ElasticNetRegressor,\n",
        "5. XGBRegressor,\n",
        "6. RandomForestRegressor,\n",
        "7. KNeighborsRegressor,\n",
        "8. BaggingRegressor,\n",
        "9. HistGradientBoostingRegressor,\n",
        "10. ExtraTreesRegressor,\n",
        "11. HuberRegressor,\n",
        "12. AdaBoostRegressor,\n",
        "13. MLPRegressor,\n",
        "14. BayesianRidge,"
      ],
      "metadata": {
        "id": "tUgHfHRdSvn1"
      }
    },
    {
      "cell_type": "code",
      "source": [
        "from sklearn.linear_model import LinearRegression\n",
        "from sklearn.metrics import accuracy_score,r2_score\n",
        "\n",
        "model_LinearRegression = LinearRegression()\n",
        "model_LinearRegression.fit(x_train, y_train)\n",
        "\n",
        "# Finally, predict on test data\n",
        "pred_test_LinearRegression = model_LinearRegression.predict(x_test)\n",
        "\n",
        "r2_test_LinearRegression = r2_score(y_test, pred_test_LinearRegression).round(4)\n",
        "mse_test_LinearRegression = mean_squared_error(y_test, pred_test_LinearRegression).round(4)\n",
        "rmse_test_LinearRegression = np.sqrt(mean_squared_error(y_test, pred_test_LinearRegression)).round(4)\n",
        "mae_test_LinearRegression = mean_absolute_error(y_test, pred_test_LinearRegression).round(4)\n",
        "\n",
        "print(f'\\033[94m')\n",
        "print('R2 Score : ', r2_test_LinearRegression)\n",
        "print(f'\\033[92m')\n",
        "print('MSE      : ', mse_test_LinearRegression)\n",
        "print('RMSE     : ', rmse_test_LinearRegression)\n",
        "print('MAE      : ', mae_test_LinearRegression)"
      ],
      "metadata": {
        "colab": {
          "base_uri": "https://localhost:8080/",
          "height": 240
        },
        "id": "cz3fAztUQ7c4",
        "outputId": "0141d3b0-8958-40f4-a375-cf24f1980098"
      },
      "execution_count": null,
      "outputs": [
        {
          "output_type": "error",
          "ename": "NameError",
          "evalue": "ignored",
          "traceback": [
            "\u001b[0;31m---------------------------------------------------------------------------\u001b[0m",
            "\u001b[0;31mNameError\u001b[0m                                 Traceback (most recent call last)",
            "\u001b[0;32m<ipython-input-43-cc95d25dd779>\u001b[0m in \u001b[0;36m<cell line: 5>\u001b[0;34m()\u001b[0m\n\u001b[1;32m      3\u001b[0m \u001b[0;34m\u001b[0m\u001b[0m\n\u001b[1;32m      4\u001b[0m \u001b[0mmodel_LinearRegression\u001b[0m \u001b[0;34m=\u001b[0m \u001b[0mLinearRegression\u001b[0m\u001b[0;34m(\u001b[0m\u001b[0;34m)\u001b[0m\u001b[0;34m\u001b[0m\u001b[0;34m\u001b[0m\u001b[0m\n\u001b[0;32m----> 5\u001b[0;31m \u001b[0mmodel_LinearRegression\u001b[0m\u001b[0;34m.\u001b[0m\u001b[0mfit\u001b[0m\u001b[0;34m(\u001b[0m\u001b[0mx_train\u001b[0m\u001b[0;34m,\u001b[0m \u001b[0my_train\u001b[0m\u001b[0;34m)\u001b[0m\u001b[0;34m\u001b[0m\u001b[0;34m\u001b[0m\u001b[0m\n\u001b[0m\u001b[1;32m      6\u001b[0m \u001b[0;34m\u001b[0m\u001b[0m\n\u001b[1;32m      7\u001b[0m \u001b[0;31m# Finally, predict on test data\u001b[0m\u001b[0;34m\u001b[0m\u001b[0;34m\u001b[0m\u001b[0m\n",
            "\u001b[0;31mNameError\u001b[0m: name 'x_train' is not defined"
          ]
        }
      ]
    },
    {
      "cell_type": "code",
      "source": [
        "#LASSO REGERSSION\n",
        "from sklearn.linear_model import Lasso\n",
        "model_lasso = Lasso(alpha = 0.8)\n",
        "model_lasso.fit(X_train, y_train)\n",
        "\n",
        "# Finally, predict on test data\n",
        "pred_test_lasso = model_lasso.predict(X_test)\n",
        "\n",
        "r2_test_lasso = r2_score(y_test, pred_test_lasso).round(4)\n",
        "mse_test_lasso = mean_squared_error(y_test, pred_test_lasso).round(4)\n",
        "rmse_test_lasso = np.sqrt(mean_squared_error(y_test, pred_test_lasso)).round(4)\n",
        "mae_test_lasso = mean_absolute_error(y_test, pred_test_lasso).round(4)\n",
        "\n",
        "print(f'\\033[94m')\n",
        "print('R2 Score  : ', r2_test_lasso)\n",
        "print(f'\\033[92m')\n",
        "print('MSE       : ', mse_test_lasso)\n",
        "print('RMSE      : ', rmse_test_lasso)\n",
        "print('MAE       : ', mae_test_lasso)"
      ],
      "metadata": {
        "colab": {
          "base_uri": "https://localhost:8080/"
        },
        "id": "QI7I14J3RZxr",
        "outputId": "0090e618-05a0-427b-954e-8c2c0afbff46"
      },
      "execution_count": null,
      "outputs": [
        {
          "output_type": "stream",
          "name": "stdout",
          "text": [
            "\u001b[94m\n",
            "R2 Score  :  0.9348\n",
            "\u001b[92m\n",
            "MSE       :  83385092.3776\n",
            "RMSE      :  9131.5438\n",
            "MAE       :  7509.8884\n"
          ]
        }
      ]
    },
    {
      "cell_type": "code",
      "source": [
        "#RidgeRegression\n",
        "from sklearn.linear_model import Ridge\n",
        "\n",
        "model_Ridge = Ridge()\n",
        "model_Ridge.fit(X_train, y_train)\n",
        "\n",
        "# Finally, predict on test data\n",
        "pred_test_Ridge = model_Ridge.predict(X_test)\n",
        "\n",
        "r2_test_Ridge = r2_score(y_test, pred_test_Ridge).round(4)\n",
        "mse_test_Ridge = mean_squared_error(y_test, pred_test_Ridge).round(4)\n",
        "rmse_test_Ridge = np.sqrt(mean_squared_error(y_test, pred_test_Ridge)).round(4)\n",
        "mae_test_Ridge = mean_absolute_error(y_test, pred_test_Ridge).round(4)\n",
        "\n",
        "print(f'\\033[94m')\n",
        "print('R2 Score  : ', r2_test_Ridge)\n",
        "print(f'\\033[92m')\n",
        "print('MSE       : ', mse_test_Ridge)\n",
        "print('RMSE      : ', rmse_test_Ridge)\n",
        "print('MAE       : ', mae_test_Ridge)"
      ],
      "metadata": {
        "colab": {
          "base_uri": "https://localhost:8080/",
          "height": 240
        },
        "id": "CyFhGPI3RdPA",
        "outputId": "0104c3b7-498b-451b-adea-3fa44424b7ec"
      },
      "execution_count": null,
      "outputs": [
        {
          "output_type": "error",
          "ename": "NameError",
          "evalue": "ignored",
          "traceback": [
            "\u001b[0;31m---------------------------------------------------------------------------\u001b[0m",
            "\u001b[0;31mNameError\u001b[0m                                 Traceback (most recent call last)",
            "\u001b[0;32m<ipython-input-30-df209899444d>\u001b[0m in \u001b[0;36m<cell line: 5>\u001b[0;34m()\u001b[0m\n\u001b[1;32m      3\u001b[0m \u001b[0;34m\u001b[0m\u001b[0m\n\u001b[1;32m      4\u001b[0m \u001b[0mmodel_Ridge\u001b[0m \u001b[0;34m=\u001b[0m \u001b[0mRidge\u001b[0m\u001b[0;34m(\u001b[0m\u001b[0;34m)\u001b[0m\u001b[0;34m\u001b[0m\u001b[0;34m\u001b[0m\u001b[0m\n\u001b[0;32m----> 5\u001b[0;31m \u001b[0mmodel_Ridge\u001b[0m\u001b[0;34m.\u001b[0m\u001b[0mfit\u001b[0m\u001b[0;34m(\u001b[0m\u001b[0mX_train\u001b[0m\u001b[0;34m,\u001b[0m \u001b[0my_train\u001b[0m\u001b[0;34m)\u001b[0m\u001b[0;34m\u001b[0m\u001b[0;34m\u001b[0m\u001b[0m\n\u001b[0m\u001b[1;32m      6\u001b[0m \u001b[0;34m\u001b[0m\u001b[0m\n\u001b[1;32m      7\u001b[0m \u001b[0;31m# Finally, predict on test data\u001b[0m\u001b[0;34m\u001b[0m\u001b[0;34m\u001b[0m\u001b[0m\n",
            "\u001b[0;31mNameError\u001b[0m: name 'X_train' is not defined"
          ]
        }
      ]
    },
    {
      "cell_type": "code",
      "source": [
        "# XGBRegressor\n",
        "from xgboost import XGBRegressor\n",
        "\n",
        "model_xgb = XGBRegressor(random_state=42)\n",
        "model_xgb.fit(X_train, y_train)\n",
        "\n",
        "# Finally, predict on test data\n",
        "pred_test_xgb = model_xgb.predict(X_test)\n",
        "\n",
        "r2_test_xgb = r2_score(y_test, pred_test_xgb).round(4)\n",
        "mse_test_xgb = mean_squared_error(y_test, pred_test_xgb).round(4)\n",
        "rmse_test_xgb = np.sqrt(mean_squared_error(y_test, pred_test_xgb)).round(4)\n",
        "mae_test_xgb = mean_absolute_error(y_test, pred_test_xgb).round(4)\n",
        "\n",
        "print(f'\\033[94m')\n",
        "print('R2 Score  : ', r2_test_xgb)\n",
        "print(f'\\033[92m')\n",
        "print('MSE       : ', mse_test_xgb)\n",
        "print('RMSE      : ', rmse_test_xgb)\n",
        "print('MAE       : ', mae_test_xgb)"
      ],
      "metadata": {
        "colab": {
          "base_uri": "https://localhost:8080/"
        },
        "id": "wEYs1JBORfv0",
        "outputId": "8f0d412d-abdc-42b0-8375-e734ca2271bc"
      },
      "execution_count": null,
      "outputs": [
        {
          "output_type": "stream",
          "name": "stdout",
          "text": [
            "\u001b[94m\n",
            "R2 Score  :  0.933\n",
            "\u001b[92m\n",
            "MSE       :  85627556.4429\n",
            "RMSE      :  9253.5159\n",
            "MAE       :  7385.0517\n"
          ]
        }
      ]
    },
    {
      "cell_type": "code",
      "source": [
        "#ElasticNetRegressor\n",
        "from sklearn.linear_model import  ElasticNet\n",
        "model_ElasticNet = ElasticNet()\n",
        "model_ElasticNet.fit(X_train, y_train)\n",
        "\n",
        "# Finally, predict on test data\n",
        "pred_test_ElasticNet = model_ElasticNet.predict(X_test)\n",
        "\n",
        "r2_test_ElasticNet = r2_score(y_test, pred_test_ElasticNet).round(4)\n",
        "mse_test_ElasticNet = mean_squared_error(y_test, pred_test_ElasticNet).round(4)\n",
        "rmse_test_ElasticNet = np.sqrt(mean_squared_error(y_test, pred_test_ElasticNet)).round(4)\n",
        "mae_test_ElasticNet = mean_absolute_error(y_test, pred_test_ElasticNet).round(4)\n",
        "\n",
        "print(f'\\033[94m')\n",
        "print('R2 Score  : ', r2_test_ElasticNet)\n",
        "print(f'\\033[92m')\n",
        "print('MSE       : ', mse_test_ElasticNet)\n",
        "print('RMSE      : ', rmse_test_ElasticNet)\n",
        "print('MAE       : ', mae_test_ElasticNet)"
      ],
      "metadata": {
        "colab": {
          "base_uri": "https://localhost:8080/"
        },
        "id": "4AYckSSoRiGr",
        "outputId": "6d3439f7-0356-4fd5-897d-be54cd6b7ace"
      },
      "execution_count": null,
      "outputs": [
        {
          "output_type": "stream",
          "name": "stdout",
          "text": [
            "\u001b[94m\n",
            "R2 Score  :  0.1742\n",
            "\u001b[92m\n",
            "MSE       :  1056093787.9656\n",
            "RMSE      :  32497.5966\n",
            "MAE       :  25671.7844\n"
          ]
        }
      ]
    },
    {
      "cell_type": "code",
      "source": [
        "#RandomForestRegressor\n",
        "from sklearn.ensemble import RandomForestRegressor\n",
        "\n",
        "model_RandomForestRegressor = RandomForestRegressor()\n",
        "model_RandomForestRegressor.fit(X_train, y_train)\n",
        "\n",
        "# Finally, predict on test data\n",
        "pred_test_RandomForestRegressor = model_RandomForestRegressor.predict(X_test)\n",
        "\n",
        "r2_test_RandomForestRegressor = r2_score(y_test, pred_test_RandomForestRegressor).round(4)\n",
        "mse_test_RandomForestRegressor = mean_squared_error(y_test, pred_test_RandomForestRegressor).round(4)\n",
        "rmse_test_RandomForestRegressor = np.sqrt(mean_squared_error(y_test, pred_test_RandomForestRegressor)).round(4)\n",
        "mae_test_RandomForestRegressor = mean_absolute_error(y_test, pred_test_RandomForestRegressor).round(4)\n",
        "\n",
        "print(f'\\033[94m')\n",
        "print('R2 Score  : ', r2_test_RandomForestRegressor)\n",
        "print(f'\\033[92m')\n",
        "print('MSE       : ', mse_test_RandomForestRegressor)\n",
        "print('RMSE      : ', rmse_test_RandomForestRegressor)\n",
        "print('MAE       : ', mae_test_RandomForestRegressor)"
      ],
      "metadata": {
        "colab": {
          "base_uri": "https://localhost:8080/"
        },
        "id": "onz4P1o7RmO3",
        "outputId": "48fc9de6-7ced-4ba9-95cc-d464ae9015cc"
      },
      "execution_count": null,
      "outputs": [
        {
          "output_type": "stream",
          "name": "stdout",
          "text": [
            "\u001b[94m\n",
            "R2 Score  :  0.965\n",
            "\u001b[92m\n",
            "MSE       :  44790577.6457\n",
            "RMSE      :  6692.5763\n",
            "MAE       :  5309.9485\n"
          ]
        }
      ]
    },
    {
      "cell_type": "code",
      "source": [
        "#KNeighborsRegressor\n",
        "from sklearn.neighbors import KNeighborsRegressor\n",
        "\n",
        "model_KNeighborsRegressor = KNeighborsRegressor()\n",
        "model_KNeighborsRegressor.fit(X_train, y_train)\n",
        "\n",
        "# Finally, predict on test data\n",
        "pred_test_KNeighborsRegressor = model_KNeighborsRegressor.predict(X_test)\n",
        "\n",
        "r2_test_KNeighborsRegressor = r2_score(y_test, pred_test_KNeighborsRegressor).round(4)\n",
        "mse_test_KNeighborsRegressor = mean_squared_error(y_test, pred_test_KNeighborsRegressor).round(4)\n",
        "rmse_test_KNeighborsRegressor = np.sqrt(mean_squared_error(y_test, pred_test_KNeighborsRegressor)).round(4)\n",
        "mae_test_KNeighborsRegressor = mean_absolute_error(y_test, pred_test_KNeighborsRegressor).round(4)\n",
        "\n",
        "print(f'\\033[94m')\n",
        "print('R2 Score  : ', r2_test_KNeighborsRegressor)\n",
        "print(f'\\033[92m')\n",
        "print('MSE       : ', mse_test_KNeighborsRegressor)\n",
        "print('RMSE      : ', rmse_test_KNeighborsRegressor)\n",
        "print('MAE       : ', mae_test_KNeighborsRegressor)"
      ],
      "metadata": {
        "colab": {
          "base_uri": "https://localhost:8080/"
        },
        "id": "FvmlGwL8ST1y",
        "outputId": "42e95ffc-27db-422c-b376-45c937ccff3c"
      },
      "execution_count": null,
      "outputs": [
        {
          "output_type": "stream",
          "name": "stdout",
          "text": [
            "\u001b[94m\n",
            "R2 Score  :  0.4367\n",
            "\u001b[92m\n",
            "MSE       :  720402790.6527\n",
            "RMSE      :  26840.3202\n",
            "MAE       :  21064.0824\n"
          ]
        }
      ]
    },
    {
      "cell_type": "code",
      "source": [
        "#BaggingRegressor\n",
        "from sklearn.ensemble import BaggingRegressor\n",
        "model_BaggingRegressor = BaggingRegressor()\n",
        "model_BaggingRegressor.fit(X_train, y_train)\n",
        "\n",
        "# Finally, predict on test data\n",
        "pred_test_BaggingRegressor = model_BaggingRegressor.predict(X_test)\n",
        "\n",
        "r2_test_BaggingRegressor = r2_score(y_test, pred_test_BaggingRegressor).round(4)\n",
        "mse_test_BaggingRegressor = mean_squared_error(y_test, pred_test_BaggingRegressor).round(4)\n",
        "rmse_test_BaggingRegressor = np.sqrt(mean_squared_error(y_test, pred_test_BaggingRegressor)).round(4)\n",
        "mae_test_BaggingRegressor = mean_absolute_error(y_test, pred_test_BaggingRegressor).round(4)\n",
        "\n",
        "print(f'\\033[94m')\n",
        "print('R2 Score  : ', r2_test_BaggingRegressor)\n",
        "print(f'\\033[92m')\n",
        "print('MSE       : ', mse_test_BaggingRegressor)\n",
        "print('RMSE      : ', rmse_test_BaggingRegressor)\n",
        "print('MAE       : ', mae_test_BaggingRegressor)"
      ],
      "metadata": {
        "colab": {
          "base_uri": "https://localhost:8080/"
        },
        "id": "0dtEluvASWKm",
        "outputId": "6c45a695-4ff3-404e-fb82-6116eb00a3de"
      },
      "execution_count": null,
      "outputs": [
        {
          "output_type": "stream",
          "name": "stdout",
          "text": [
            "\u001b[94m\n",
            "R2 Score  :  0.9706\n",
            "\u001b[92m\n",
            "MSE       :  37603324.8178\n",
            "RMSE      :  6132.155\n",
            "MAE       :  4823.7913\n"
          ]
        }
      ]
    },
    {
      "cell_type": "code",
      "source": [
        "#HistGradientBoostingRegressor\n",
        "from sklearn.ensemble import HistGradientBoostingRegressor\n",
        "\n",
        "model_HistGradientBoostingRegressor = HistGradientBoostingRegressor()\n",
        "model_HistGradientBoostingRegressor.fit(X_train, y_train)\n",
        "\n",
        "# Finally, predict on test data\n",
        "pred_test_HistGradientBoostingRegressor = model_HistGradientBoostingRegressor.predict(X_test)\n",
        "\n",
        "r2_test_HistGradientBoostingRegressor = r2_score(y_test, pred_test_HistGradientBoostingRegressor).round(4)\n",
        "mse_test_HistGradientBoostingRegressor = mean_squared_error(y_test, pred_test_HistGradientBoostingRegressor).round(4)\n",
        "rmse_test_HistGradientBoostingRegressor = np.sqrt(mean_squared_error(y_test, pred_test_HistGradientBoostingRegressor)).round(4)\n",
        "mae_test_HistGradientBoostingRegressor = mean_absolute_error(y_test, pred_test_HistGradientBoostingRegressor).round(4)\n",
        "\n",
        "print(f'\\033[94m')\n",
        "print('R2 Score  : ', r2_test_HistGradientBoostingRegressor)\n",
        "print(f'\\033[92m')\n",
        "print('MSE       : ', mse_test_HistGradientBoostingRegressor)\n",
        "print('RMSE      : ', rmse_test_HistGradientBoostingRegressor)\n",
        "print('MAE       : ', mae_test_HistGradientBoostingRegressor)"
      ],
      "metadata": {
        "colab": {
          "base_uri": "https://localhost:8080/"
        },
        "id": "4KILlXvcSdEi",
        "outputId": "d4b529a8-8eb9-450e-9d6b-7876ff7ef413"
      },
      "execution_count": null,
      "outputs": [
        {
          "output_type": "stream",
          "name": "stdout",
          "text": [
            "\u001b[94m\n",
            "R2 Score  :  0.4265\n",
            "\u001b[92m\n",
            "MSE       :  733412109.0766\n",
            "RMSE      :  27081.5825\n",
            "MAE       :  22451.3444\n"
          ]
        }
      ]
    },
    {
      "cell_type": "code",
      "source": [
        "#ExtraTreesRegressor\n",
        "from sklearn.ensemble import ExtraTreesRegressor\n",
        "\n",
        "model_ExtraTreesRegressor = ExtraTreesRegressor()\n",
        "model_ExtraTreesRegressor.fit(X_train, y_train)\n",
        "\n",
        "# Finally, predict on test data\n",
        "pred_test_ExtraTreesRegressor = model_ExtraTreesRegressor.predict(X_test)\n",
        "\n",
        "r2_test_ExtraTreesRegressor = r2_score(y_test, pred_test_ExtraTreesRegressor).round(4)\n",
        "mse_test_ExtraTreesRegressor = mean_squared_error(y_test, pred_test_ExtraTreesRegressor).round(4)\n",
        "rmse_test_ExtraTreesRegressor = np.sqrt(mean_squared_error(y_test, pred_test_ExtraTreesRegressor)).round(4)\n",
        "mae_test_ExtraTreesRegressor= mean_absolute_error(y_test, pred_test_ExtraTreesRegressor).round(4)\n",
        "\n",
        "print(f'\\033[94m')\n",
        "print('R2 Score  : ', r2_test_ExtraTreesRegressor)\n",
        "print(f'\\033[92m')\n",
        "print('MSE       : ', mse_test_ExtraTreesRegressor)\n",
        "print('RMSE      : ', rmse_test_ExtraTreesRegressor)\n",
        "print('MAE       : ', mae_test_ExtraTreesRegressor)\n"
      ],
      "metadata": {
        "colab": {
          "base_uri": "https://localhost:8080/"
        },
        "id": "ZGQ8vr11SfcY",
        "outputId": "83720e0c-f86f-482c-87ce-1f0e5803f485"
      },
      "execution_count": null,
      "outputs": [
        {
          "output_type": "stream",
          "name": "stdout",
          "text": [
            "\u001b[94m\n",
            "R2 Score  :  0.958\n",
            "\u001b[92m\n",
            "MSE       :  53678867.0006\n",
            "RMSE      :  7326.5863\n",
            "MAE       :  6295.1142\n"
          ]
        }
      ]
    },
    {
      "cell_type": "code",
      "source": [
        "#AdaBoostRegressor\n",
        "from sklearn.ensemble import AdaBoostRegressor\n",
        "\n",
        "model_AdaBoostRegressor = AdaBoostRegressor()\n",
        "model_AdaBoostRegressor.fit(X_train, y_train)\n",
        "\n",
        "# Finally, predict on test data\n",
        "pred_test_AdaBoostRegressor = model_AdaBoostRegressor.predict(X_test)\n",
        "\n",
        "r2_test_AdaBoostRegressor = r2_score(y_test, pred_test_AdaBoostRegressor).round(4)\n",
        "mse_test_AdaBoostRegressor = mean_squared_error(y_test, pred_test_AdaBoostRegressor).round(4)\n",
        "rmse_test_AdaBoostRegressor = np.sqrt(mean_squared_error(y_test, pred_test_AdaBoostRegressor)).round(4)\n",
        "mae_test_AdaBoostRegressor= mean_absolute_error(y_test, pred_test_AdaBoostRegressor).round(4)\n",
        "\n",
        "print(f'\\033[94m')\n",
        "print('R2 Score  : ', r2_test_AdaBoostRegressor)\n",
        "print(f'\\033[92m')\n",
        "print('MSE       : ', mse_test_AdaBoostRegressor)\n",
        "print('RMSE      : ', rmse_test_AdaBoostRegressor)\n",
        "print('MAE       : ', mae_test_AdaBoostRegressor)\n"
      ],
      "metadata": {
        "colab": {
          "base_uri": "https://localhost:8080/"
        },
        "id": "aSFVo6ZvSkNO",
        "outputId": "aec442be-a1e4-4fd6-f37d-fc623204e840"
      },
      "execution_count": null,
      "outputs": [
        {
          "output_type": "stream",
          "name": "stdout",
          "text": [
            "\u001b[94m\n",
            "R2 Score  :  0.9413\n",
            "\u001b[92m\n",
            "MSE       :  75011032.7339\n",
            "RMSE      :  8660.891\n",
            "MAE       :  7781.3325\n"
          ]
        }
      ]
    },
    {
      "cell_type": "code",
      "source": [
        "#MLPRegressor\n",
        "from sklearn.neural_network import MLPRegressor\n",
        "\n",
        "model_MLPRegressor = MLPRegressor()\n",
        "model_MLPRegressor.fit(X_train, y_train)\n",
        "\n",
        "# Finally, predict on test data\n",
        "pred_test_MLPRegressor = model_MLPRegressor.predict(X_test)\n",
        "\n",
        "r2_test_MLPRegressor = r2_score(y_test, pred_test_MLPRegressor).round(4)\n",
        "mse_test_MLPRegressor = mean_squared_error(y_test, pred_test_MLPRegressor).round(4)\n",
        "rmse_test_MLPRegressor = np.sqrt(mean_squared_error(y_test, pred_test_MLPRegressor)).round(4)\n",
        "mae_test_MLPRegressor= mean_absolute_error(y_test, pred_test_MLPRegressor).round(4)\n",
        "\n",
        "print(f'\\033[94m')\n",
        "print('R2 Score  : ', r2_test_MLPRegressor)\n",
        "print(f'\\033[92m')\n",
        "print('MSE       : ', mse_test_MLPRegressor)\n",
        "print('RMSE      : ', rmse_test_MLPRegressor)\n",
        "print('MAE       : ', mae_test_MLPRegressor)"
      ],
      "metadata": {
        "colab": {
          "base_uri": "https://localhost:8080/"
        },
        "id": "ITwivn0EVIXJ",
        "outputId": "ca51123b-b247-471c-daea-baa593066be8"
      },
      "execution_count": null,
      "outputs": [
        {
          "output_type": "stream",
          "name": "stdout",
          "text": [
            "\u001b[94m\n",
            "R2 Score  :  -11.6876\n",
            "\u001b[92m\n",
            "MSE       :  16226104395.273\n",
            "RMSE      :  127381.7271\n",
            "MAE       :  122259.1932\n"
          ]
        }
      ]
    },
    {
      "cell_type": "code",
      "source": [
        "#HuberRegressor\n",
        "from sklearn.linear_model import HuberRegressor\n",
        "\n",
        "model_HuberRegressor = HuberRegressor()\n",
        "model_HuberRegressor.fit(X_train, y_train)\n",
        "\n",
        "# Finally, predict on test data\n",
        "pred_test_HuberRegressor = model_HuberRegressor.predict(X_test)\n",
        "\n",
        "r2_test_HuberRegressor = r2_score(y_test, pred_test_HuberRegressor).round(4)\n",
        "mse_test_HuberRegressor = mean_squared_error(y_test, pred_test_HuberRegressor).round(4)\n",
        "rmse_test_HuberRegressor = np.sqrt(mean_squared_error(y_test, pred_test_HuberRegressor)).round(4)\n",
        "mae_test_HuberRegressor= mean_absolute_error(y_test, pred_test_HuberRegressor).round(4)\n",
        "\n",
        "print(f'\\033[94m')\n",
        "print('R2 Score  : ', r2_test_HuberRegressor)\n",
        "print(f'\\033[92m')\n",
        "print('MSE       : ', mse_test_HuberRegressor)\n",
        "print('RMSE      : ', rmse_test_HuberRegressor)\n",
        "print('MAE       : ', mae_test_HuberRegressor)"
      ],
      "metadata": {
        "colab": {
          "base_uri": "https://localhost:8080/"
        },
        "id": "iVfMqA8GVNEf",
        "outputId": "3728dd2a-5367-4557-9951-b0ff7828d94d"
      },
      "execution_count": null,
      "outputs": [
        {
          "output_type": "stream",
          "name": "stdout",
          "text": [
            "\u001b[94m\n",
            "R2 Score  :  0.7978\n",
            "\u001b[92m\n",
            "MSE       :  258644390.8383\n",
            "RMSE      :  16082.4249\n",
            "MAE       :  12658.5535\n"
          ]
        }
      ]
    },
    {
      "cell_type": "code",
      "source": [
        "#BayesianRidge\n",
        "from sklearn.linear_model import BayesianRidge\n",
        "\n",
        "model_BayesianRidge = BayesianRidge()\n",
        "model_BayesianRidge.fit(X_train, y_train)\n",
        "\n",
        "# Finally, predict on test data\n",
        "pred_test_BayesianRidge = model_BayesianRidge.predict(X_test)\n",
        "\n",
        "r2_test_BayesianRidge = r2_score(y_test, pred_test_BayesianRidge).round(4)\n",
        "mse_test_BayesianRidge = mean_squared_error(y_test, pred_test_BayesianRidge).round(4)\n",
        "rmse_test_BayesianRidge = np.sqrt(mean_squared_error(y_test, pred_test_BayesianRidge)).round(4)\n",
        "mae_test_BayesianRidge= mean_absolute_error(y_test, pred_test_BayesianRidge).round(4)\n",
        "\n",
        "print(f'\\033[94m')\n",
        "print('R2 Score  : ', r2_test_BayesianRidge)\n",
        "print(f'\\033[92m')\n",
        "print('MSE       : ', mse_test_BayesianRidge)\n",
        "print('RMSE      : ', rmse_test_BayesianRidge)\n",
        "print('MAE       : ', mae_test_BayesianRidge)"
      ],
      "metadata": {
        "colab": {
          "base_uri": "https://localhost:8080/"
        },
        "id": "IJPjs7n8VSSU",
        "outputId": "6c296f93-8b58-4618-ec40-1ff39275f1c3"
      },
      "execution_count": null,
      "outputs": [
        {
          "output_type": "stream",
          "name": "stdout",
          "text": [
            "\u001b[94m\n",
            "R2 Score  :  -0.1287\n",
            "\u001b[92m\n",
            "MSE       :  1443525114.4589\n",
            "RMSE      :  37993.751\n",
            "MAE       :  29316.9789\n"
          ]
        }
      ]
    },
    {
      "cell_type": "markdown",
      "source": [
        "3. Comparing Models"
      ],
      "metadata": {
        "id": "p47A42pLVbQ-"
      }
    },
    {
      "cell_type": "code",
      "source": [
        "\n",
        "\n",
        "    'Model': [\n",
        "        'LinearRegression', 'LassoRegression', 'RidgeRegression', 'ElasticNetRegressor', 'XGBRegressor', 'RandomForestRegressor',\n",
        "        'KNeighborsRegressor', 'BaggingRegressor', 'HistGradientBoostingRegressor', 'ExtraTreesRegressor', 'HuberRegressor'\n",
        "        'AdaBoostRegressor', ' MLPRegressor', 'HuberRegressor', 'BayesianRidge'\n",
        "    ],\n",
        "\n",
        "    'R2 Score': [\n",
        "        r2_test_LinearRegression,r2_test_lasso, r2_test_Ridge, r2_test_ElasticNet, r2_test_xgb, r2_test_RandomForestRegressor,\n",
        "        r2_test_KNeighborsRegressor, r2_test_BaggingRegressor,r2_test_HistGradientBoostingRegressor, r2_test_ExtraTreesRegressor,\n",
        "        r2_test_AdaBoostRegressor, r2_test_MLPRegressor, r2_test_HuberRegressor, r2_test_BayesianRidge\n",
        "    ],\n",
        "\n",
        "    'MSE': [\n",
        "        mse_test_LinearRegression,mse_test_lasso, mse_test_Ridge, mse_test_ElasticNet, mse_test_xgb, mse_test_RandomForestRegressor,\n",
        "        mse_test_KNeighborsRegressor, mse_test_BaggingRegressor, mse_test_HistGradientBoostingRegressor, mse_test_ExtraTreesRegressor,\n",
        "        mse_test_AdaBoostRegressor, mse_test_MLPRegressor, mse_test_HuberRegressor, mse_test_BayesianRidge\n",
        "    ],\n",
        "\n",
        "    'RMSE': [\n",
        "        rmse_test_LinearRegression,rmse_test_lasso, rmse_test_Ridge, rmse_test_ElasticNet, rmse_test_xgb, rmse_test_RandomForestRegressor,\n",
        "        rmse_test_KNeighborsRegressor, rmse_test_BaggingRegressor, rmse_test_HistGradientBoostingRegressor, rmse_test_ExtraTreesRegressor,\n",
        "        rmse_test_AdaBoostRegressor, rmse_test_MLPRegressor, rmse_test_HuberRegressor, rmse_test_BayesianRidge\n",
        "    ],\n",
        "\n",
        "    'MAE': [\n",
        "        mae_test_LinearRegression,mae_test_lasso, mae_test_Ridge, mae_test_ElasticNet, mae_test_xgb, mae_test_RandomForestRegressor,\n",
        "        mae_test_KNeighborsRegressor, mae_test_BaggingRegressor, mae_test_HistGradientBoostingRegressor, mae_test_ExtraTreesRegressor,\n",
        "        mae_test_AdaBoostRegressor, mae_test_MLPRegressor, mae_test_HuberRegressor, mae_test_BayesianRidge\n",
        "    ]\n",
        "\n"
      ],
      "metadata": {
        "id": "2tTN7KVZVf0l",
        "colab": {
          "base_uri": "https://localhost:8080/",
          "height": 133
        },
        "outputId": "c3802c8b-57f7-43ac-b6e3-b0deba43b0ae"
      },
      "execution_count": null,
      "outputs": [
        {
          "output_type": "error",
          "ename": "SyntaxError",
          "evalue": "ignored",
          "traceback": [
            "\u001b[0;36m  File \u001b[0;32m\"<ipython-input-5-e1363c90742c>\"\u001b[0;36m, line \u001b[0;32m1\u001b[0m\n\u001b[0;31m    'Model': [\u001b[0m\n\u001b[0m    ^\u001b[0m\n\u001b[0;31mSyntaxError\u001b[0m\u001b[0;31m:\u001b[0m illegal target for annotation\n"
          ]
        }
      ]
    },
    {
      "cell_type": "code",
      "source": [
        "models"
      ],
      "metadata": {
        "colab": {
          "base_uri": "https://localhost:8080/",
          "height": 488
        },
        "id": "RPYUf_9sV12n",
        "outputId": "21c8c8ce-d4a6-45e6-ada1-9e44241fae0b"
      },
      "execution_count": null,
      "outputs": [
        {
          "output_type": "execute_result",
          "data": {
            "text/plain": [
              "                              Model  R2 Score           MSE         RMSE  \\\n",
              "0                  LinearRegression    0.9347  8.350286e+07    9137.9902   \n",
              "1                   LassoRegression    0.9348  8.338509e+07    9131.5438   \n",
              "2                   RidgeRegression    0.8117  2.408059e+08   15517.9210   \n",
              "3               ElasticNetRegressor    0.1742  1.056094e+09   32497.5966   \n",
              "4                      XGBRegressor    0.9330  8.562756e+07    9253.5159   \n",
              "5             RandomForestRegressor    0.9650  4.479058e+07    6692.5763   \n",
              "6               KNeighborsRegressor    0.4367  7.204028e+08   26840.3202   \n",
              "7                  BaggingRegressor    0.9706  3.760332e+07    6132.1550   \n",
              "8     HistGradientBoostingRegressor    0.4265  7.334121e+08   27081.5825   \n",
              "9               ExtraTreesRegressor    0.9580  5.367887e+07    7326.5863   \n",
              "10  HuberRegressorAdaBoostRegressor    0.9413  7.501103e+07    8660.8910   \n",
              "11                     MLPRegressor  -11.6876  1.622610e+10  127381.7271   \n",
              "12                   HuberRegressor    0.7978  2.586444e+08   16082.4249   \n",
              "13                    BayesianRidge   -0.1287  1.443525e+09   37993.7510   \n",
              "\n",
              "            MAE  \n",
              "0     7514.2937  \n",
              "1     7509.8884  \n",
              "2    11915.4422  \n",
              "3    25671.7844  \n",
              "4     7385.0517  \n",
              "5     5309.9485  \n",
              "6    21064.0824  \n",
              "7     4823.7913  \n",
              "8    22451.3444  \n",
              "9     6295.1142  \n",
              "10    7781.3325  \n",
              "11  122259.1932  \n",
              "12   12658.5535  \n",
              "13   29316.9789  "
            ],
            "text/html": [
              "\n",
              "  <div id=\"df-8993ff77-bb1b-4e0a-bd6a-b108194be4e5\">\n",
              "    <div class=\"colab-df-container\">\n",
              "      <div>\n",
              "<style scoped>\n",
              "    .dataframe tbody tr th:only-of-type {\n",
              "        vertical-align: middle;\n",
              "    }\n",
              "\n",
              "    .dataframe tbody tr th {\n",
              "        vertical-align: top;\n",
              "    }\n",
              "\n",
              "    .dataframe thead th {\n",
              "        text-align: right;\n",
              "    }\n",
              "</style>\n",
              "<table border=\"1\" class=\"dataframe\">\n",
              "  <thead>\n",
              "    <tr style=\"text-align: right;\">\n",
              "      <th></th>\n",
              "      <th>Model</th>\n",
              "      <th>R2 Score</th>\n",
              "      <th>MSE</th>\n",
              "      <th>RMSE</th>\n",
              "      <th>MAE</th>\n",
              "    </tr>\n",
              "  </thead>\n",
              "  <tbody>\n",
              "    <tr>\n",
              "      <th>0</th>\n",
              "      <td>LinearRegression</td>\n",
              "      <td>0.9347</td>\n",
              "      <td>8.350286e+07</td>\n",
              "      <td>9137.9902</td>\n",
              "      <td>7514.2937</td>\n",
              "    </tr>\n",
              "    <tr>\n",
              "      <th>1</th>\n",
              "      <td>LassoRegression</td>\n",
              "      <td>0.9348</td>\n",
              "      <td>8.338509e+07</td>\n",
              "      <td>9131.5438</td>\n",
              "      <td>7509.8884</td>\n",
              "    </tr>\n",
              "    <tr>\n",
              "      <th>2</th>\n",
              "      <td>RidgeRegression</td>\n",
              "      <td>0.8117</td>\n",
              "      <td>2.408059e+08</td>\n",
              "      <td>15517.9210</td>\n",
              "      <td>11915.4422</td>\n",
              "    </tr>\n",
              "    <tr>\n",
              "      <th>3</th>\n",
              "      <td>ElasticNetRegressor</td>\n",
              "      <td>0.1742</td>\n",
              "      <td>1.056094e+09</td>\n",
              "      <td>32497.5966</td>\n",
              "      <td>25671.7844</td>\n",
              "    </tr>\n",
              "    <tr>\n",
              "      <th>4</th>\n",
              "      <td>XGBRegressor</td>\n",
              "      <td>0.9330</td>\n",
              "      <td>8.562756e+07</td>\n",
              "      <td>9253.5159</td>\n",
              "      <td>7385.0517</td>\n",
              "    </tr>\n",
              "    <tr>\n",
              "      <th>5</th>\n",
              "      <td>RandomForestRegressor</td>\n",
              "      <td>0.9650</td>\n",
              "      <td>4.479058e+07</td>\n",
              "      <td>6692.5763</td>\n",
              "      <td>5309.9485</td>\n",
              "    </tr>\n",
              "    <tr>\n",
              "      <th>6</th>\n",
              "      <td>KNeighborsRegressor</td>\n",
              "      <td>0.4367</td>\n",
              "      <td>7.204028e+08</td>\n",
              "      <td>26840.3202</td>\n",
              "      <td>21064.0824</td>\n",
              "    </tr>\n",
              "    <tr>\n",
              "      <th>7</th>\n",
              "      <td>BaggingRegressor</td>\n",
              "      <td>0.9706</td>\n",
              "      <td>3.760332e+07</td>\n",
              "      <td>6132.1550</td>\n",
              "      <td>4823.7913</td>\n",
              "    </tr>\n",
              "    <tr>\n",
              "      <th>8</th>\n",
              "      <td>HistGradientBoostingRegressor</td>\n",
              "      <td>0.4265</td>\n",
              "      <td>7.334121e+08</td>\n",
              "      <td>27081.5825</td>\n",
              "      <td>22451.3444</td>\n",
              "    </tr>\n",
              "    <tr>\n",
              "      <th>9</th>\n",
              "      <td>ExtraTreesRegressor</td>\n",
              "      <td>0.9580</td>\n",
              "      <td>5.367887e+07</td>\n",
              "      <td>7326.5863</td>\n",
              "      <td>6295.1142</td>\n",
              "    </tr>\n",
              "    <tr>\n",
              "      <th>10</th>\n",
              "      <td>HuberRegressorAdaBoostRegressor</td>\n",
              "      <td>0.9413</td>\n",
              "      <td>7.501103e+07</td>\n",
              "      <td>8660.8910</td>\n",
              "      <td>7781.3325</td>\n",
              "    </tr>\n",
              "    <tr>\n",
              "      <th>11</th>\n",
              "      <td>MLPRegressor</td>\n",
              "      <td>-11.6876</td>\n",
              "      <td>1.622610e+10</td>\n",
              "      <td>127381.7271</td>\n",
              "      <td>122259.1932</td>\n",
              "    </tr>\n",
              "    <tr>\n",
              "      <th>12</th>\n",
              "      <td>HuberRegressor</td>\n",
              "      <td>0.7978</td>\n",
              "      <td>2.586444e+08</td>\n",
              "      <td>16082.4249</td>\n",
              "      <td>12658.5535</td>\n",
              "    </tr>\n",
              "    <tr>\n",
              "      <th>13</th>\n",
              "      <td>BayesianRidge</td>\n",
              "      <td>-0.1287</td>\n",
              "      <td>1.443525e+09</td>\n",
              "      <td>37993.7510</td>\n",
              "      <td>29316.9789</td>\n",
              "    </tr>\n",
              "  </tbody>\n",
              "</table>\n",
              "</div>\n",
              "      <button class=\"colab-df-convert\" onclick=\"convertToInteractive('df-8993ff77-bb1b-4e0a-bd6a-b108194be4e5')\"\n",
              "              title=\"Convert this dataframe to an interactive table.\"\n",
              "              style=\"display:none;\">\n",
              "        \n",
              "  <svg xmlns=\"http://www.w3.org/2000/svg\" height=\"24px\"viewBox=\"0 0 24 24\"\n",
              "       width=\"24px\">\n",
              "    <path d=\"M0 0h24v24H0V0z\" fill=\"none\"/>\n",
              "    <path d=\"M18.56 5.44l.94 2.06.94-2.06 2.06-.94-2.06-.94-.94-2.06-.94 2.06-2.06.94zm-11 1L8.5 8.5l.94-2.06 2.06-.94-2.06-.94L8.5 2.5l-.94 2.06-2.06.94zm10 10l.94 2.06.94-2.06 2.06-.94-2.06-.94-.94-2.06-.94 2.06-2.06.94z\"/><path d=\"M17.41 7.96l-1.37-1.37c-.4-.4-.92-.59-1.43-.59-.52 0-1.04.2-1.43.59L10.3 9.45l-7.72 7.72c-.78.78-.78 2.05 0 2.83L4 21.41c.39.39.9.59 1.41.59.51 0 1.02-.2 1.41-.59l7.78-7.78 2.81-2.81c.8-.78.8-2.07 0-2.86zM5.41 20L4 18.59l7.72-7.72 1.47 1.35L5.41 20z\"/>\n",
              "  </svg>\n",
              "      </button>\n",
              "      \n",
              "  <style>\n",
              "    .colab-df-container {\n",
              "      display:flex;\n",
              "      flex-wrap:wrap;\n",
              "      gap: 12px;\n",
              "    }\n",
              "\n",
              "    .colab-df-convert {\n",
              "      background-color: #E8F0FE;\n",
              "      border: none;\n",
              "      border-radius: 50%;\n",
              "      cursor: pointer;\n",
              "      display: none;\n",
              "      fill: #1967D2;\n",
              "      height: 32px;\n",
              "      padding: 0 0 0 0;\n",
              "      width: 32px;\n",
              "    }\n",
              "\n",
              "    .colab-df-convert:hover {\n",
              "      background-color: #E2EBFA;\n",
              "      box-shadow: 0px 1px 2px rgba(60, 64, 67, 0.3), 0px 1px 3px 1px rgba(60, 64, 67, 0.15);\n",
              "      fill: #174EA6;\n",
              "    }\n",
              "\n",
              "    [theme=dark] .colab-df-convert {\n",
              "      background-color: #3B4455;\n",
              "      fill: #D2E3FC;\n",
              "    }\n",
              "\n",
              "    [theme=dark] .colab-df-convert:hover {\n",
              "      background-color: #434B5C;\n",
              "      box-shadow: 0px 1px 3px 1px rgba(0, 0, 0, 0.15);\n",
              "      filter: drop-shadow(0px 1px 2px rgba(0, 0, 0, 0.3));\n",
              "      fill: #FFFFFF;\n",
              "    }\n",
              "  </style>\n",
              "\n",
              "      <script>\n",
              "        const buttonEl =\n",
              "          document.querySelector('#df-8993ff77-bb1b-4e0a-bd6a-b108194be4e5 button.colab-df-convert');\n",
              "        buttonEl.style.display =\n",
              "          google.colab.kernel.accessAllowed ? 'block' : 'none';\n",
              "\n",
              "        async function convertToInteractive(key) {\n",
              "          const element = document.querySelector('#df-8993ff77-bb1b-4e0a-bd6a-b108194be4e5');\n",
              "          const dataTable =\n",
              "            await google.colab.kernel.invokeFunction('convertToInteractive',\n",
              "                                                     [key], {});\n",
              "          if (!dataTable) return;\n",
              "\n",
              "          const docLinkHtml = 'Like what you see? Visit the ' +\n",
              "            '<a target=\"_blank\" href=https://colab.research.google.com/notebooks/data_table.ipynb>data table notebook</a>'\n",
              "            + ' to learn more about interactive tables.';\n",
              "          element.innerHTML = '';\n",
              "          dataTable['output_type'] = 'display_data';\n",
              "          await google.colab.output.renderOutput(dataTable, element);\n",
              "          const docLink = document.createElement('div');\n",
              "          docLink.innerHTML = docLinkHtml;\n",
              "          element.appendChild(docLink);\n",
              "        }\n",
              "      </script>\n",
              "    </div>\n",
              "  </div>\n",
              "  "
            ]
          },
          "metadata": {},
          "execution_count": 226
        }
      ]
    },
    {
      "cell_type": "code",
      "source": [
        "\n",
        "\n",
        "models.sort_values(by='R2 Score', ascending=False).style.background_gradient(\n",
        "        cmap='coolwarm').hide_index().set_properties(**{\n",
        "            'font-family': 'Lucida Calligraphy',\n",
        "            'color': 'LigntGreen',\n",
        "            'font-size': '15px'\n",
        "        })"
      ],
      "metadata": {
        "colab": {
          "base_uri": "https://localhost:8080/",
          "height": 240
        },
        "id": "VekrX_wOV4UP",
        "outputId": "59aca822-5471-49e1-9e03-9432777e4ac6"
      },
      "execution_count": null,
      "outputs": [
        {
          "output_type": "error",
          "ename": "NameError",
          "evalue": "ignored",
          "traceback": [
            "\u001b[0;31m---------------------------------------------------------------------------\u001b[0m",
            "\u001b[0;31mNameError\u001b[0m                                 Traceback (most recent call last)",
            "\u001b[0;32m<ipython-input-3-f5d34fe158e6>\u001b[0m in \u001b[0;36m<cell line: 1>\u001b[0;34m()\u001b[0m\n\u001b[0;32m----> 1\u001b[0;31m models.sort_values(by='R2 Score', ascending=False).style.background_gradient(\n\u001b[0m\u001b[1;32m      2\u001b[0m         cmap='coolwarm').hide_index().set_properties(**{\n\u001b[1;32m      3\u001b[0m             \u001b[0;34m'font-family'\u001b[0m\u001b[0;34m:\u001b[0m \u001b[0;34m'Lucida Calligraphy'\u001b[0m\u001b[0;34m,\u001b[0m\u001b[0;34m\u001b[0m\u001b[0;34m\u001b[0m\u001b[0m\n\u001b[1;32m      4\u001b[0m             \u001b[0;34m'color'\u001b[0m\u001b[0;34m:\u001b[0m \u001b[0;34m'LigntGreen'\u001b[0m\u001b[0;34m,\u001b[0m\u001b[0;34m\u001b[0m\u001b[0;34m\u001b[0m\u001b[0m\n\u001b[1;32m      5\u001b[0m             \u001b[0;34m'font-size'\u001b[0m\u001b[0;34m:\u001b[0m \u001b[0;34m'15px'\u001b[0m\u001b[0;34m\u001b[0m\u001b[0;34m\u001b[0m\u001b[0m\n",
            "\u001b[0;31mNameError\u001b[0m: name 'models' is not defined"
          ]
        }
      ]
    },
    {
      "cell_type": "code",
      "source": [
        "p = plt.figure(figsize=(18,16))\n",
        "\n",
        "p = sns.set_theme(style=\"white\")\n",
        "\n",
        "p= models=models.sort_values(by='R2 Score',ascending=False)[:20]\n",
        "\n",
        "p = sns.barplot(y= 'Model', x= 'R2 Score', data= models)\n",
        "\n",
        "for container in p.containers:\n",
        "    p.bar_label(container,label_type = 'center',padding = 2,size = 15,color = \"Red\",rotation = 0,\n",
        "    bbox={\"boxstyle\": \"round\", \"pad\": 0.3, \"facecolor\": \"yellow\", \"edgecolor\": \"black\", \"alpha\": 1})\n",
        "plt.title('COMPARE THE MODEL')\n",
        "plt.xlabel('R2 Score')\n",
        "plt.ylabel('Model');"
      ],
      "metadata": {
        "colab": {
          "base_uri": "https://localhost:8080/",
          "height": 240
        },
        "id": "F9Vd47zaV8Kn",
        "outputId": "6648ac4a-024c-41dd-f7d5-8c661413022e"
      },
      "execution_count": null,
      "outputs": [
        {
          "output_type": "error",
          "ename": "NameError",
          "evalue": "ignored",
          "traceback": [
            "\u001b[0;31m---------------------------------------------------------------------------\u001b[0m",
            "\u001b[0;31mNameError\u001b[0m                                 Traceback (most recent call last)",
            "\u001b[0;32m<ipython-input-2-c19b1568e865>\u001b[0m in \u001b[0;36m<cell line: 1>\u001b[0;34m()\u001b[0m\n\u001b[0;32m----> 1\u001b[0;31m \u001b[0mp\u001b[0m \u001b[0;34m=\u001b[0m \u001b[0mplt\u001b[0m\u001b[0;34m.\u001b[0m\u001b[0mfigure\u001b[0m\u001b[0;34m(\u001b[0m\u001b[0mfigsize\u001b[0m\u001b[0;34m=\u001b[0m\u001b[0;34m(\u001b[0m\u001b[0;36m18\u001b[0m\u001b[0;34m,\u001b[0m\u001b[0;36m16\u001b[0m\u001b[0;34m)\u001b[0m\u001b[0;34m)\u001b[0m\u001b[0;34m\u001b[0m\u001b[0;34m\u001b[0m\u001b[0m\n\u001b[0m\u001b[1;32m      2\u001b[0m \u001b[0;34m\u001b[0m\u001b[0m\n\u001b[1;32m      3\u001b[0m \u001b[0mp\u001b[0m \u001b[0;34m=\u001b[0m \u001b[0msns\u001b[0m\u001b[0;34m.\u001b[0m\u001b[0mset_theme\u001b[0m\u001b[0;34m(\u001b[0m\u001b[0mstyle\u001b[0m\u001b[0;34m=\u001b[0m\u001b[0;34m\"white\"\u001b[0m\u001b[0;34m)\u001b[0m\u001b[0;34m\u001b[0m\u001b[0;34m\u001b[0m\u001b[0m\n\u001b[1;32m      4\u001b[0m \u001b[0;34m\u001b[0m\u001b[0m\n\u001b[1;32m      5\u001b[0m \u001b[0mp\u001b[0m\u001b[0;34m=\u001b[0m \u001b[0mmodels\u001b[0m\u001b[0;34m=\u001b[0m\u001b[0mmodels\u001b[0m\u001b[0;34m.\u001b[0m\u001b[0msort_values\u001b[0m\u001b[0;34m(\u001b[0m\u001b[0mby\u001b[0m\u001b[0;34m=\u001b[0m\u001b[0;34m'R2 Score'\u001b[0m\u001b[0;34m,\u001b[0m\u001b[0mascending\u001b[0m\u001b[0;34m=\u001b[0m\u001b[0;32mFalse\u001b[0m\u001b[0;34m)\u001b[0m\u001b[0;34m[\u001b[0m\u001b[0;34m:\u001b[0m\u001b[0;36m20\u001b[0m\u001b[0;34m]\u001b[0m\u001b[0;34m\u001b[0m\u001b[0;34m\u001b[0m\u001b[0m\n",
            "\u001b[0;31mNameError\u001b[0m: name 'plt' is not defined"
          ]
        }
      ]
    },
    {
      "cell_type": "markdown",
      "source": [
        "4. Best performing model:\n",
        "\n",
        "\n",
        "   **XGBRegressor**"
      ],
      "metadata": {
        "id": "R4OmRN69WJu6"
      }
    },
    {
      "cell_type": "code",
      "source": [
        "print(f'\\033[94m')\n",
        "prediction = model_xgb.predict(X_test)\n",
        "print(prediction)"
      ],
      "metadata": {
        "colab": {
          "base_uri": "https://localhost:8080/"
        },
        "id": "sXJ3vDmzWRzS",
        "outputId": "2d906c6c-d496-4c60-ed47-2947be88fc32"
      },
      "execution_count": null,
      "outputs": [
        {
          "output_type": "stream",
          "name": "stdout",
          "text": [
            "\u001b[94m\n",
            "[ 98353.336 136493.58  137438.11   80114.375 181342.83  110379.78\n",
            "  62268.383  98296.74  111275.39  180568.17 ]\n"
          ]
        }
      ]
    },
    {
      "cell_type": "code",
      "source": [
        "cross_checking = pd.DataFrame({'Actual' : y_test , 'Predicted' : prediction})\n",
        "cross_checking.head()"
      ],
      "metadata": {
        "colab": {
          "base_uri": "https://localhost:8080/",
          "height": 206
        },
        "id": "HaS7XGRVWTzn",
        "outputId": "407cd3e1-19fd-482b-dbca-43b0c786c387"
      },
      "execution_count": null,
      "outputs": [
        {
          "output_type": "execute_result",
          "data": {
            "text/plain": [
              "       Actual      Predicted\n",
              "28  103282.38   98353.335938\n",
              "11  144259.40  136493.578125\n",
              "10  146121.95  137438.109375\n",
              "41   77798.83   80114.375000\n",
              "2   191050.39  181342.828125"
            ],
            "text/html": [
              "\n",
              "  <div id=\"df-11107424-646f-4ca8-b976-5c9333c722d3\">\n",
              "    <div class=\"colab-df-container\">\n",
              "      <div>\n",
              "<style scoped>\n",
              "    .dataframe tbody tr th:only-of-type {\n",
              "        vertical-align: middle;\n",
              "    }\n",
              "\n",
              "    .dataframe tbody tr th {\n",
              "        vertical-align: top;\n",
              "    }\n",
              "\n",
              "    .dataframe thead th {\n",
              "        text-align: right;\n",
              "    }\n",
              "</style>\n",
              "<table border=\"1\" class=\"dataframe\">\n",
              "  <thead>\n",
              "    <tr style=\"text-align: right;\">\n",
              "      <th></th>\n",
              "      <th>Actual</th>\n",
              "      <th>Predicted</th>\n",
              "    </tr>\n",
              "  </thead>\n",
              "  <tbody>\n",
              "    <tr>\n",
              "      <th>28</th>\n",
              "      <td>103282.38</td>\n",
              "      <td>98353.335938</td>\n",
              "    </tr>\n",
              "    <tr>\n",
              "      <th>11</th>\n",
              "      <td>144259.40</td>\n",
              "      <td>136493.578125</td>\n",
              "    </tr>\n",
              "    <tr>\n",
              "      <th>10</th>\n",
              "      <td>146121.95</td>\n",
              "      <td>137438.109375</td>\n",
              "    </tr>\n",
              "    <tr>\n",
              "      <th>41</th>\n",
              "      <td>77798.83</td>\n",
              "      <td>80114.375000</td>\n",
              "    </tr>\n",
              "    <tr>\n",
              "      <th>2</th>\n",
              "      <td>191050.39</td>\n",
              "      <td>181342.828125</td>\n",
              "    </tr>\n",
              "  </tbody>\n",
              "</table>\n",
              "</div>\n",
              "      <button class=\"colab-df-convert\" onclick=\"convertToInteractive('df-11107424-646f-4ca8-b976-5c9333c722d3')\"\n",
              "              title=\"Convert this dataframe to an interactive table.\"\n",
              "              style=\"display:none;\">\n",
              "        \n",
              "  <svg xmlns=\"http://www.w3.org/2000/svg\" height=\"24px\"viewBox=\"0 0 24 24\"\n",
              "       width=\"24px\">\n",
              "    <path d=\"M0 0h24v24H0V0z\" fill=\"none\"/>\n",
              "    <path d=\"M18.56 5.44l.94 2.06.94-2.06 2.06-.94-2.06-.94-.94-2.06-.94 2.06-2.06.94zm-11 1L8.5 8.5l.94-2.06 2.06-.94-2.06-.94L8.5 2.5l-.94 2.06-2.06.94zm10 10l.94 2.06.94-2.06 2.06-.94-2.06-.94-.94-2.06-.94 2.06-2.06.94z\"/><path d=\"M17.41 7.96l-1.37-1.37c-.4-.4-.92-.59-1.43-.59-.52 0-1.04.2-1.43.59L10.3 9.45l-7.72 7.72c-.78.78-.78 2.05 0 2.83L4 21.41c.39.39.9.59 1.41.59.51 0 1.02-.2 1.41-.59l7.78-7.78 2.81-2.81c.8-.78.8-2.07 0-2.86zM5.41 20L4 18.59l7.72-7.72 1.47 1.35L5.41 20z\"/>\n",
              "  </svg>\n",
              "      </button>\n",
              "      \n",
              "  <style>\n",
              "    .colab-df-container {\n",
              "      display:flex;\n",
              "      flex-wrap:wrap;\n",
              "      gap: 12px;\n",
              "    }\n",
              "\n",
              "    .colab-df-convert {\n",
              "      background-color: #E8F0FE;\n",
              "      border: none;\n",
              "      border-radius: 50%;\n",
              "      cursor: pointer;\n",
              "      display: none;\n",
              "      fill: #1967D2;\n",
              "      height: 32px;\n",
              "      padding: 0 0 0 0;\n",
              "      width: 32px;\n",
              "    }\n",
              "\n",
              "    .colab-df-convert:hover {\n",
              "      background-color: #E2EBFA;\n",
              "      box-shadow: 0px 1px 2px rgba(60, 64, 67, 0.3), 0px 1px 3px 1px rgba(60, 64, 67, 0.15);\n",
              "      fill: #174EA6;\n",
              "    }\n",
              "\n",
              "    [theme=dark] .colab-df-convert {\n",
              "      background-color: #3B4455;\n",
              "      fill: #D2E3FC;\n",
              "    }\n",
              "\n",
              "    [theme=dark] .colab-df-convert:hover {\n",
              "      background-color: #434B5C;\n",
              "      box-shadow: 0px 1px 3px 1px rgba(0, 0, 0, 0.15);\n",
              "      filter: drop-shadow(0px 1px 2px rgba(0, 0, 0, 0.3));\n",
              "      fill: #FFFFFF;\n",
              "    }\n",
              "  </style>\n",
              "\n",
              "      <script>\n",
              "        const buttonEl =\n",
              "          document.querySelector('#df-11107424-646f-4ca8-b976-5c9333c722d3 button.colab-df-convert');\n",
              "        buttonEl.style.display =\n",
              "          google.colab.kernel.accessAllowed ? 'block' : 'none';\n",
              "\n",
              "        async function convertToInteractive(key) {\n",
              "          const element = document.querySelector('#df-11107424-646f-4ca8-b976-5c9333c722d3');\n",
              "          const dataTable =\n",
              "            await google.colab.kernel.invokeFunction('convertToInteractive',\n",
              "                                                     [key], {});\n",
              "          if (!dataTable) return;\n",
              "\n",
              "          const docLinkHtml = 'Like what you see? Visit the ' +\n",
              "            '<a target=\"_blank\" href=https://colab.research.google.com/notebooks/data_table.ipynb>data table notebook</a>'\n",
              "            + ' to learn more about interactive tables.';\n",
              "          element.innerHTML = '';\n",
              "          dataTable['output_type'] = 'display_data';\n",
              "          await google.colab.output.renderOutput(dataTable, element);\n",
              "          const docLink = document.createElement('div');\n",
              "          docLink.innerHTML = docLinkHtml;\n",
              "          element.appendChild(docLink);\n",
              "        }\n",
              "      </script>\n",
              "    </div>\n",
              "  </div>\n",
              "  "
            ]
          },
          "metadata": {},
          "execution_count": 230
        }
      ]
    },
    {
      "cell_type": "code",
      "source": [
        "cross_checking['Error'] = cross_checking['Actual'] - cross_checking['Predicted']\n",
        "cross_checking.head()"
      ],
      "metadata": {
        "colab": {
          "base_uri": "https://localhost:8080/",
          "height": 206
        },
        "id": "wDvDE7jwWWvL",
        "outputId": "4758f079-a10f-49fd-f4c6-e426a06a7a58"
      },
      "execution_count": null,
      "outputs": [
        {
          "output_type": "execute_result",
          "data": {
            "text/plain": [
              "       Actual      Predicted        Error\n",
              "28  103282.38   98353.335938  4929.044063\n",
              "11  144259.40  136493.578125  7765.821875\n",
              "10  146121.95  137438.109375  8683.840625\n",
              "41   77798.83   80114.375000 -2315.545000\n",
              "2   191050.39  181342.828125  9707.561875"
            ],
            "text/html": [
              "\n",
              "  <div id=\"df-cf6f3e6d-0c63-430a-ba32-573171f17cf3\">\n",
              "    <div class=\"colab-df-container\">\n",
              "      <div>\n",
              "<style scoped>\n",
              "    .dataframe tbody tr th:only-of-type {\n",
              "        vertical-align: middle;\n",
              "    }\n",
              "\n",
              "    .dataframe tbody tr th {\n",
              "        vertical-align: top;\n",
              "    }\n",
              "\n",
              "    .dataframe thead th {\n",
              "        text-align: right;\n",
              "    }\n",
              "</style>\n",
              "<table border=\"1\" class=\"dataframe\">\n",
              "  <thead>\n",
              "    <tr style=\"text-align: right;\">\n",
              "      <th></th>\n",
              "      <th>Actual</th>\n",
              "      <th>Predicted</th>\n",
              "      <th>Error</th>\n",
              "    </tr>\n",
              "  </thead>\n",
              "  <tbody>\n",
              "    <tr>\n",
              "      <th>28</th>\n",
              "      <td>103282.38</td>\n",
              "      <td>98353.335938</td>\n",
              "      <td>4929.044063</td>\n",
              "    </tr>\n",
              "    <tr>\n",
              "      <th>11</th>\n",
              "      <td>144259.40</td>\n",
              "      <td>136493.578125</td>\n",
              "      <td>7765.821875</td>\n",
              "    </tr>\n",
              "    <tr>\n",
              "      <th>10</th>\n",
              "      <td>146121.95</td>\n",
              "      <td>137438.109375</td>\n",
              "      <td>8683.840625</td>\n",
              "    </tr>\n",
              "    <tr>\n",
              "      <th>41</th>\n",
              "      <td>77798.83</td>\n",
              "      <td>80114.375000</td>\n",
              "      <td>-2315.545000</td>\n",
              "    </tr>\n",
              "    <tr>\n",
              "      <th>2</th>\n",
              "      <td>191050.39</td>\n",
              "      <td>181342.828125</td>\n",
              "      <td>9707.561875</td>\n",
              "    </tr>\n",
              "  </tbody>\n",
              "</table>\n",
              "</div>\n",
              "      <button class=\"colab-df-convert\" onclick=\"convertToInteractive('df-cf6f3e6d-0c63-430a-ba32-573171f17cf3')\"\n",
              "              title=\"Convert this dataframe to an interactive table.\"\n",
              "              style=\"display:none;\">\n",
              "        \n",
              "  <svg xmlns=\"http://www.w3.org/2000/svg\" height=\"24px\"viewBox=\"0 0 24 24\"\n",
              "       width=\"24px\">\n",
              "    <path d=\"M0 0h24v24H0V0z\" fill=\"none\"/>\n",
              "    <path d=\"M18.56 5.44l.94 2.06.94-2.06 2.06-.94-2.06-.94-.94-2.06-.94 2.06-2.06.94zm-11 1L8.5 8.5l.94-2.06 2.06-.94-2.06-.94L8.5 2.5l-.94 2.06-2.06.94zm10 10l.94 2.06.94-2.06 2.06-.94-2.06-.94-.94-2.06-.94 2.06-2.06.94z\"/><path d=\"M17.41 7.96l-1.37-1.37c-.4-.4-.92-.59-1.43-.59-.52 0-1.04.2-1.43.59L10.3 9.45l-7.72 7.72c-.78.78-.78 2.05 0 2.83L4 21.41c.39.39.9.59 1.41.59.51 0 1.02-.2 1.41-.59l7.78-7.78 2.81-2.81c.8-.78.8-2.07 0-2.86zM5.41 20L4 18.59l7.72-7.72 1.47 1.35L5.41 20z\"/>\n",
              "  </svg>\n",
              "      </button>\n",
              "      \n",
              "  <style>\n",
              "    .colab-df-container {\n",
              "      display:flex;\n",
              "      flex-wrap:wrap;\n",
              "      gap: 12px;\n",
              "    }\n",
              "\n",
              "    .colab-df-convert {\n",
              "      background-color: #E8F0FE;\n",
              "      border: none;\n",
              "      border-radius: 50%;\n",
              "      cursor: pointer;\n",
              "      display: none;\n",
              "      fill: #1967D2;\n",
              "      height: 32px;\n",
              "      padding: 0 0 0 0;\n",
              "      width: 32px;\n",
              "    }\n",
              "\n",
              "    .colab-df-convert:hover {\n",
              "      background-color: #E2EBFA;\n",
              "      box-shadow: 0px 1px 2px rgba(60, 64, 67, 0.3), 0px 1px 3px 1px rgba(60, 64, 67, 0.15);\n",
              "      fill: #174EA6;\n",
              "    }\n",
              "\n",
              "    [theme=dark] .colab-df-convert {\n",
              "      background-color: #3B4455;\n",
              "      fill: #D2E3FC;\n",
              "    }\n",
              "\n",
              "    [theme=dark] .colab-df-convert:hover {\n",
              "      background-color: #434B5C;\n",
              "      box-shadow: 0px 1px 3px 1px rgba(0, 0, 0, 0.15);\n",
              "      filter: drop-shadow(0px 1px 2px rgba(0, 0, 0, 0.3));\n",
              "      fill: #FFFFFF;\n",
              "    }\n",
              "  </style>\n",
              "\n",
              "      <script>\n",
              "        const buttonEl =\n",
              "          document.querySelector('#df-cf6f3e6d-0c63-430a-ba32-573171f17cf3 button.colab-df-convert');\n",
              "        buttonEl.style.display =\n",
              "          google.colab.kernel.accessAllowed ? 'block' : 'none';\n",
              "\n",
              "        async function convertToInteractive(key) {\n",
              "          const element = document.querySelector('#df-cf6f3e6d-0c63-430a-ba32-573171f17cf3');\n",
              "          const dataTable =\n",
              "            await google.colab.kernel.invokeFunction('convertToInteractive',\n",
              "                                                     [key], {});\n",
              "          if (!dataTable) return;\n",
              "\n",
              "          const docLinkHtml = 'Like what you see? Visit the ' +\n",
              "            '<a target=\"_blank\" href=https://colab.research.google.com/notebooks/data_table.ipynb>data table notebook</a>'\n",
              "            + ' to learn more about interactive tables.';\n",
              "          element.innerHTML = '';\n",
              "          dataTable['output_type'] = 'display_data';\n",
              "          await google.colab.output.renderOutput(dataTable, element);\n",
              "          const docLink = document.createElement('div');\n",
              "          docLink.innerHTML = docLinkHtml;\n",
              "          element.appendChild(docLink);\n",
              "        }\n",
              "      </script>\n",
              "    </div>\n",
              "  </div>\n",
              "  "
            ]
          },
          "metadata": {},
          "execution_count": 231
        }
      ]
    },
    {
      "cell_type": "markdown",
      "source": [
        "5. ** Different regression metrics **"
      ],
      "metadata": {
        "id": "k5fRwPCeZ7Xj"
      }
    },
    {
      "cell_type": "code",
      "source": [
        "sns.countplot(data=data,x=data[\"State\"])\n",
        "plt.show()"
      ],
      "metadata": {
        "colab": {
          "base_uri": "https://localhost:8080/",
          "height": 458
        },
        "id": "29aogjINcQYB",
        "outputId": "dafad549-ac16-4901-a002-032f9fa5fdc3"
      },
      "execution_count": null,
      "outputs": [
        {
          "output_type": "display_data",
          "data": {
            "text/plain": [
              "<Figure size 640x480 with 1 Axes>"
            ],
            "image/png": "[encoded data removed]"
          },
          "metadata": {}
        }
      ]
    },
    {
      "cell_type": "code",
      "source": [
        "# Bivariate Analysis\n",
        "# plotting pairplot to check pairwise relationship between variables.\n",
        "sns.pairplot(data=data)\n",
        "plt.show()"
      ],
      "metadata": {
        "colab": {
          "base_uri": "https://localhost:8080/",
          "height": 1000
        },
        "id": "YimFSDtvcTdo",
        "outputId": "97ecbb03-74d0-4e35-9285-3f435cd2aff1"
      },
      "execution_count": null,
      "outputs": [
        {
          "output_type": "display_data",
          "data": {
            "text/plain": [
              "<Figure size 1000x1000 with 20 Axes>"
            ],
            "image/png": "[encoded data removed]"
          },
          "metadata": {}
        }
      ]
    },
    {
      "cell_type": "code",
      "source": [
        "# plotting heatmap.\n",
        "sns.heatmap(data.corr(),annot=True)\n",
        "plt.show()"
      ],
      "metadata": {
        "colab": {
          "base_uri": "https://localhost:8080/",
          "height": 555
        },
        "id": "yblMt2HMchBD",
        "outputId": "f35fbe81-7f7e-4b7b-fab6-b2f90ec8a2a8"
      },
      "execution_count": null,
      "outputs": [
        {
          "output_type": "display_data",
          "data": {
            "text/plain": [
              "<Figure size 640x480 with 2 Axes>"
            ],
            "image/png": "[encoded data removed]"
          },
          "metadata": {}
        }
      ]
    },
    {
      "cell_type": "markdown",
      "source": [
        "6. Handling Outliers"
      ],
      "metadata": {
        "id": "CSKvkdBncoo5"
      }
    },
    {
      "cell_type": "code",
      "source": [
        "plt.figure(figsize=(12, 6))\n",
        "sns.boxplot(data=data)\n",
        "plt.show()"
      ],
      "metadata": {
        "colab": {
          "base_uri": "https://localhost:8080/",
          "height": 525
        },
        "id": "YvKnG_dnctBF",
        "outputId": "9bebd485-a6e7-4a1b-b000-4a0a63aa0b98"
      },
      "execution_count": null,
      "outputs": [
        {
          "output_type": "display_data",
          "data": {
            "text/plain": [
              "<Figure size 1200x600 with 1 Axes>"
            ],
            "image/png": "[encoded data removed]"
          },
          "metadata": {}
        }
      ]
    },
    {
      "cell_type": "code",
      "source": [
        "# removing outliers\n",
        "iqr=data[\"Profit\"].quantile(0.75)-data[\"Profit\"].quantile(0.25)\n",
        "print(iqr)"
      ],
      "metadata": {
        "colab": {
          "base_uri": "https://localhost:8080/"
        },
        "id": "RKKo2xXXcu53",
        "outputId": "4a821f9a-1e57-4f20-f1f9-a905e5903b09"
      },
      "execution_count": null,
      "outputs": [
        {
          "output_type": "stream",
          "name": "stdout",
          "text": [
            "49627.07499999998\n"
          ]
        }
      ]
    },
    {
      "cell_type": "code",
      "source": [
        "up=data[\"Profit\"].quantile(0.75)+1.5*iqr\n",
        "down=data[\"Profit\"].quantile(0.25)-1.5*iqr\n",
        "\n",
        "print(up,down)"
      ],
      "metadata": {
        "colab": {
          "base_uri": "https://localhost:8080/"
        },
        "id": "8010Cu_mcxmS",
        "outputId": "067e858b-87e6-4cf0-9669-5ef160b03abb"
      },
      "execution_count": null,
      "outputs": [
        {
          "output_type": "stream",
          "name": "stdout",
          "text": [
            "214206.58999999997 15698.290000000023\n"
          ]
        }
      ]
    },
    {
      "cell_type": "code",
      "source": [
        "outlier=[]\n",
        "profit=data[\"Profit\"]\n",
        "\n",
        "for i in profit:\n",
        "    if i>up:\n",
        "        outlier.append(i)\n",
        "        print(\"Up Outlier\",i)\n",
        "\n",
        "for i in profit:\n",
        "    if i<down:\n",
        "        outlier.append(i)\n",
        "        print(\"Down Outlier\",i)\n"
      ],
      "metadata": {
        "colab": {
          "base_uri": "https://localhost:8080/",
          "height": 240
        },
        "id": "R9CVYV3jczTZ",
        "outputId": "48c1a6d8-a997-47fe-918d-e1f1eabae0b3"
      },
      "execution_count": null,
      "outputs": [
        {
          "output_type": "error",
          "ename": "NameError",
          "evalue": "ignored",
          "traceback": [
            "\u001b[0;31m---------------------------------------------------------------------------\u001b[0m",
            "\u001b[0;31mNameError\u001b[0m                                 Traceback (most recent call last)",
            "\u001b[0;32m<ipython-input-44-cb86308e8de1>\u001b[0m in \u001b[0;36m<cell line: 4>\u001b[0;34m()\u001b[0m\n\u001b[1;32m      3\u001b[0m \u001b[0;34m\u001b[0m\u001b[0m\n\u001b[1;32m      4\u001b[0m \u001b[0;32mfor\u001b[0m \u001b[0mi\u001b[0m \u001b[0;32min\u001b[0m \u001b[0mprofit\u001b[0m\u001b[0;34m:\u001b[0m\u001b[0;34m\u001b[0m\u001b[0;34m\u001b[0m\u001b[0m\n\u001b[0;32m----> 5\u001b[0;31m     \u001b[0;32mif\u001b[0m \u001b[0mi\u001b[0m\u001b[0;34m>\u001b[0m\u001b[0mup\u001b[0m\u001b[0;34m:\u001b[0m\u001b[0;34m\u001b[0m\u001b[0;34m\u001b[0m\u001b[0m\n\u001b[0m\u001b[1;32m      6\u001b[0m         \u001b[0moutlier\u001b[0m\u001b[0;34m.\u001b[0m\u001b[0mappend\u001b[0m\u001b[0;34m(\u001b[0m\u001b[0mi\u001b[0m\u001b[0;34m)\u001b[0m\u001b[0;34m\u001b[0m\u001b[0;34m\u001b[0m\u001b[0m\n\u001b[1;32m      7\u001b[0m         \u001b[0mprint\u001b[0m\u001b[0;34m(\u001b[0m\u001b[0;34m\"Up Outlier\"\u001b[0m\u001b[0;34m,\u001b[0m\u001b[0mi\u001b[0m\u001b[0;34m)\u001b[0m\u001b[0;34m\u001b[0m\u001b[0;34m\u001b[0m\u001b[0m\n",
            "\u001b[0;31mNameError\u001b[0m: name 'up' is not defined"
          ]
        }
      ]
    },
    {
      "cell_type": "code",
      "source": [
        "data[\"Profit\"]=data[\"Profit\"].replace(outlier,data[\"Profit\"].mean())"
      ],
      "metadata": {
        "id": "gAbD_bh-c1a0"
      },
      "execution_count": null,
      "outputs": []
    },
    {
      "cell_type": "code",
      "source": [
        "plt.figure(figsize=(12, 6))\n",
        "sns.boxplot(data=data)\n",
        "plt.show()"
      ],
      "metadata": {
        "colab": {
          "base_uri": "https://localhost:8080/",
          "height": 525
        },
        "id": "aQgva21nc3EB",
        "outputId": "cf1cf680-22b5-4aa7-8aa2-122817538715"
      },
      "execution_count": null,
      "outputs": [
        {
          "output_type": "display_data",
          "data": {
            "text/plain": [
              "<Figure size 1200x600 with 1 Axes>"
            ],
            "image/png": "[encoded data removed]"
          },
          "metadata": {}
        }
      ]
    },
    {
      "cell_type": "code",
      "source": [
        "data.hist(figsize=(15,10),bins=5)\n",
        "plt.show()"
      ],
      "metadata": {
        "colab": {
          "base_uri": "https://localhost:8080/",
          "height": 704
        },
        "id": "HqXKnleDc4lx",
        "outputId": "633d8592-5853-400a-d925-af338e5c8e88"
      },
      "execution_count": null,
      "outputs": [
        {
          "output_type": "display_data",
          "data": {
            "text/plain": [
              "<Figure size 1500x1000 with 4 Axes>"
            ],
            "image/png": "[encoded data removed]"
          },
          "metadata": {}
        }
      ]
    }
  ]
}